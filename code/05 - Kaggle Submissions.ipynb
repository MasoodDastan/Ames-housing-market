{
 "cells": [
  {
   "cell_type": "code",
   "execution_count": 1,
   "id": "f46b69af-02f1-4e29-aa5f-35486e59e7de",
   "metadata": {},
   "outputs": [],
   "source": [
    "import numpy as np\n",
    "import pandas as pd\n",
    "import matplotlib.pyplot as plt\n",
    "import seaborn as sns\n",
    "\n",
    "from datetime import datetime\n",
    "from scipy import stats\n",
    "\n",
    "from sklearn.linear_model import LinearRegression, LassoCV, RidgeCV, ElasticNetCV\n",
    "from sklearn import metrics\n",
    "from sklearn.preprocessing import StandardScaler, OneHotEncoder, PolynomialFeatures\n",
    "from sklearn.compose import ColumnTransformer\n",
    "from sklearn.model_selection import train_test_split, cross_val_score, KFold\n"
   ]
  },
  {
   "cell_type": "markdown",
   "id": "b5bcd452-3d18-4986-89b8-addf5fc2dcad",
   "metadata": {},
   "source": [
    "Next, I execute the functions that were created in the `02 - Feature Engineering & Functions` notebook, as they are required for the operations in this notebook."
   ]
  },
  {
   "cell_type": "code",
   "execution_count": 2,
   "id": "ea441fc7-6138-49c2-a39a-2a5143471846",
   "metadata": {},
   "outputs": [],
   "source": [
    "%run clean_data.py"
   ]
  },
  {
   "cell_type": "markdown",
   "id": "78eeffbc-0f50-4042-8bf2-f303234eea1e",
   "metadata": {},
   "source": [
    "### Data Imports"
   ]
  },
  {
   "cell_type": "code",
   "execution_count": 3,
   "id": "f7ac862e-0e10-4445-b4b7-7eb301294cc6",
   "metadata": {},
   "outputs": [],
   "source": [
    "ames_train = pd.read_csv('../datasets/train.csv')\n",
    "ames_train, training_cat_label = clean_data(ames_train, version='mean')\n",
    "ames_train = ames_train[ames_train['gr_liv_area']<4000]"
   ]
  },
  {
   "cell_type": "code",
   "execution_count": 4,
   "id": "43a39a8b-6366-47c9-be9f-a9e4848450ef",
   "metadata": {},
   "outputs": [],
   "source": [
    "ames_test = pd.read_csv('../datasets/test.csv')\n",
    "ames_test, categories = clean_data(ames_test, version='mean', cat_labels=training_cat_label)"
   ]
  },
  {
   "cell_type": "code",
   "execution_count": 5,
   "id": "bfcd3bf2-7ce6-4e55-9c67-c2101fa58791",
   "metadata": {},
   "outputs": [
    {
     "data": {
      "text/plain": [
       "Id                 0\n",
       "electrical         0\n",
       "central_air        0\n",
       "heating_qc         0\n",
       "bsmtfin_type_1     0\n",
       "                  ..\n",
       "porch_sf           0\n",
       "SalePrice          0\n",
       "yr_sold            0\n",
       "screen_porch       0\n",
       "house_remodeled    0\n",
       "Length: 90, dtype: int64"
      ]
     },
     "execution_count": 5,
     "metadata": {},
     "output_type": "execute_result"
    }
   ],
   "source": [
    "ames_train.isna().sum().sort_values()"
   ]
  },
  {
   "cell_type": "code",
   "execution_count": 6,
   "id": "4bd9825e-2a30-40a2-81bf-a18cfd0e63ad",
   "metadata": {},
   "outputs": [
    {
     "data": {
      "text/plain": [
       "Id                 0\n",
       "electrical         0\n",
       "central_air        0\n",
       "heating_qc         0\n",
       "bsmtfin_type_1     0\n",
       "                  ..\n",
       "porch_sf           0\n",
       "yr_sold            0\n",
       "mo_sold            0\n",
       "lot_config         0\n",
       "house_remodeled    0\n",
       "Length: 89, dtype: int64"
      ]
     },
     "execution_count": 6,
     "metadata": {},
     "output_type": "execute_result"
    }
   ],
   "source": [
    "ames_test.isna().sum().sort_values()"
   ]
  },
  {
   "cell_type": "markdown",
   "id": "2b6205a1-05cf-450c-b8f8-35688106497b",
   "metadata": {},
   "source": [
    "### Outlier Censoring:"
   ]
  },
  {
   "cell_type": "markdown",
   "id": "4167c274-d544-46b7-8b8e-11df86675aec",
   "metadata": {},
   "source": [
    "As we saw in the EDA notebook, many of the numerical features in the sample have extreme outliers that can influence the performance of our developed models. Therefore, I'm implementing a conservative approach to replace the extreme outliers in all numerical features with the value at the 99.5th percentile in the sample."
   ]
  },
  {
   "cell_type": "markdown",
   "id": "3edbf903-4fd1-4624-a9ad-ffe661506fd0",
   "metadata": {},
   "source": [
    "# Benchmark Model "
   ]
  },
  {
   "cell_type": "code",
   "execution_count": 7,
   "id": "e961e7c4-7124-4535-bb6a-b442d4c141a5",
   "metadata": {},
   "outputs": [],
   "source": [
    "X = ames_train.drop(columns = 'SalePrice')\n",
    "y = ames_train['SalePrice']\n",
    "preds = y.mean()\n",
    "\n",
    "df_test = ames_test.copy()\n",
    "df_test['SalePrice'] = preds\n",
    "submission = df_test[['Id', 'SalePrice']]\n",
    "submission.set_index('Id', inplace=True)\n",
    "submission.to_csv('../datasets/Kaggle_submissions/benchmark_model_.csv')"
   ]
  },
  {
   "cell_type": "markdown",
   "id": "01f0bd3c-43e5-4a46-9700-992ffd488eae",
   "metadata": {
    "tags": []
   },
   "source": [
    "### Linear regression with best predictors:"
   ]
  },
  {
   "cell_type": "code",
   "execution_count": 8,
   "id": "484205bc-91f9-4dcf-8ffb-b5371206bdd1",
   "metadata": {},
   "outputs": [],
   "source": [
    "models_predictors = pd.read_pickle(r'../datasets/models_predictor.pkl')"
   ]
  },
  {
   "cell_type": "code",
   "execution_count": 9,
   "id": "4dfc4ca4-ffc8-4812-ad61-89ccf797491a",
   "metadata": {},
   "outputs": [
    {
     "name": "stdout",
     "output_type": "stream",
     "text": [
      "Train RMSE: 18841.60807654265\n",
      "Train R2: 0.9616815060476851\n"
     ]
    }
   ],
   "source": [
    "X_train = ames_train[models_predictors['lr_best_predictors']]\n",
    "\n",
    "y_train = np.log(ames_train['SalePrice'])\n",
    "\n",
    "X_test = ames_test[models_predictors['lr_best_predictors']]\n",
    "\n",
    "### Feature preparation\n",
    "ohe = OneHotEncoder(sparse_output=False, drop='first', handle_unknown='infrequent_if_exist')\n",
    "\n",
    "ss = StandardScaler()\n",
    "\n",
    "ct = ColumnTransformer(\n",
    "    [\n",
    "    ('ohe', ohe, X_train.select_dtypes(include='object').columns),\n",
    "    ('ss', ss, X_train.select_dtypes(include=['float64', 'int64']).columns)\n",
    "    ],\n",
    "    remainder='passthrough'\n",
    "    )\n",
    "\n",
    "# ####\n",
    "\n",
    "X_train_ct = ct.fit_transform(X_train)\n",
    "X_test_ct = ct.transform(X_test)\n",
    "\n",
    "lr = LinearRegression()\n",
    "lr.fit(X_train_ct, y_train)\n",
    "\n",
    "print('Train RMSE:', np.sqrt(metrics.mean_squared_error(np.exp(y_train), np.exp(lr.predict(X_train_ct)))))\n",
    "print('Train R2:', np.sqrt(metrics.r2_score(y_train, lr.predict(X_train_ct))))"
   ]
  },
  {
   "cell_type": "code",
   "execution_count": 10,
   "id": "df85c7e3-6f23-4876-b416-a288f59132cb",
   "metadata": {},
   "outputs": [],
   "source": [
    "preds = np.exp(lr.predict(X_test_ct))\n",
    "df_test['SalePrice'] = preds\n",
    "submission = df_test[['Id', 'SalePrice']]\n",
    "submission.set_index('Id', inplace=True)\n",
    "submission.to_csv('../datasets/Kaggle_submissions/linear_model_.csv')"
   ]
  },
  {
   "cell_type": "markdown",
   "id": "39ffeb0a-7300-4c5d-afcf-8d9bf53dd147",
   "metadata": {},
   "source": [
    "### Ridge regression with best predictors"
   ]
  },
  {
   "cell_type": "code",
   "execution_count": 11,
   "id": "3523d586-6927-44c6-8dd6-0f045accf04f",
   "metadata": {},
   "outputs": [
    {
     "name": "stdout",
     "output_type": "stream",
     "text": [
      "Train RMSE: 18885.198355658355\n",
      "Train R2: 0.960888966520748\n"
     ]
    }
   ],
   "source": [
    "X_train = ames_train[models_predictors['ridge_best_predictors']]\n",
    "\n",
    "y_train = np.log(ames_train['SalePrice'])\n",
    "\n",
    "X_test = ames_test[models_predictors['ridge_best_predictors']]\n",
    "\n",
    "### Feature preparation\n",
    "ohe = OneHotEncoder(sparse_output=False, drop='first', handle_unknown='infrequent_if_exist')\n",
    "\n",
    "ss = StandardScaler()\n",
    "\n",
    "ct = ColumnTransformer(\n",
    "    [\n",
    "    ('ohe', ohe, X_train.select_dtypes(include='object').columns),\n",
    "    ('ss', ss, X_train.select_dtypes(include=['float64', 'int64']).columns)\n",
    "    ],\n",
    "    remainder='passthrough'\n",
    "    )\n",
    "\n",
    "# ####\n",
    "\n",
    "r_alphas = np.logspace(-2, 2.2, 300)\n",
    " \n",
    "ridge_cv = RidgeCV(alphas=r_alphas, cv=10)\n",
    "ridge_cv.fit(X_train_ct, y_train)\n",
    "\n",
    "print('Train RMSE:', np.sqrt(metrics.mean_squared_error(np.exp(y_train), np.exp(ridge_cv.predict(X_train_ct)))))\n",
    "print('Train R2:', np.sqrt(metrics.r2_score(y_train, ridge_cv.predict(X_train_ct))))"
   ]
  },
  {
   "cell_type": "code",
   "execution_count": 12,
   "id": "78b4fc8c-d319-40c9-b0aa-f298c160c0d6",
   "metadata": {},
   "outputs": [],
   "source": [
    "preds = np.exp(ridge_cv.predict(X_test_ct))\n",
    "df_test['SalePrice'] = preds\n",
    "submission = df_test[['Id', 'SalePrice']]\n",
    "submission.set_index('Id', inplace=True)\n",
    "submission.to_csv('../datasets/Kaggle_submissions/ridge_cv_model_.csv')"
   ]
  },
  {
   "cell_type": "markdown",
   "id": "8145e4b5-7fc2-4e26-a1a6-0a19586893df",
   "metadata": {},
   "source": [
    "### LASSO regression with best predictors"
   ]
  },
  {
   "cell_type": "code",
   "execution_count": 13,
   "id": "b28df67b-59d1-45e2-a161-e5eb5813464d",
   "metadata": {},
   "outputs": [
    {
     "name": "stdout",
     "output_type": "stream",
     "text": [
      "Train RMSE: 19377.309385621353\n",
      "Train R2: 0.9593562775396465\n"
     ]
    }
   ],
   "source": [
    "X_train = ames_train[models_predictors['lasso_best_predictors']]\n",
    "\n",
    "y_train = np.log(ames_train['SalePrice'])\n",
    "\n",
    "X_test = ames_test[models_predictors['lasso_best_predictors']]\n",
    "\n",
    "### Feature preparation\n",
    "ohe = OneHotEncoder(sparse_output=False, drop='first', handle_unknown='infrequent_if_exist')\n",
    "\n",
    "ss = StandardScaler()\n",
    "\n",
    "ct = ColumnTransformer(\n",
    "    [\n",
    "    ('ohe', ohe, X_train.select_dtypes(include='object').columns),\n",
    "    ('ss', ss, X_train.select_dtypes(include=['float64', 'int64']).columns)\n",
    "    ],\n",
    "    remainder='passthrough'\n",
    "    )\n",
    "\n",
    "# ####\n",
    "\n",
    "alphas_range = np.logspace(-2, 2.2, 300)\n",
    "lasso_cv = LassoCV(n_alphas=300, cv=10, max_iter=5000)\n",
    "\n",
    "lasso_cv.fit(X_train_ct, y_train)\n",
    "\n",
    "print('Train RMSE:', np.sqrt(metrics.mean_squared_error(np.exp(y_train), np.exp(lasso_cv.predict(X_train_ct)))))\n",
    "print('Train R2:', np.sqrt(metrics.r2_score(y_train, lasso_cv.predict(X_train_ct))))"
   ]
  },
  {
   "cell_type": "code",
   "execution_count": 14,
   "id": "a567e0d5-af5c-433e-94d0-085285e600fc",
   "metadata": {},
   "outputs": [],
   "source": [
    "preds = np.exp(lasso_cv.predict(X_test_ct))\n",
    "df_test['SalePrice'] = preds\n",
    "submission = df_test[['Id', 'SalePrice']]\n",
    "submission.set_index('Id', inplace=True)\n",
    "submission.to_csv('../datasets/Kaggle_submissions/lasso_cv_model.csv')"
   ]
  }
 ],
 "metadata": {
  "kernelspec": {
   "display_name": "Python 3 (ipykernel)",
   "language": "python",
   "name": "python3"
  },
  "language_info": {
   "codemirror_mode": {
    "name": "ipython",
    "version": 3
   },
   "file_extension": ".py",
   "mimetype": "text/x-python",
   "name": "python",
   "nbconvert_exporter": "python",
   "pygments_lexer": "ipython3",
   "version": "3.10.9"
  }
 },
 "nbformat": 4,
 "nbformat_minor": 5
}
