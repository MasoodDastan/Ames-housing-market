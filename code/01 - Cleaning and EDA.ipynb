{
 "cells": [
  {
   "cell_type": "markdown",
   "id": "1e8999a3-64ee-4147-82c7-14721b65c8c3",
   "metadata": {},
   "source": [
    "## Ames Data\n"
   ]
  },
  {
   "cell_type": "markdown",
   "id": "f3e45985-d739-435f-ab42-91f082568f92",
   "metadata": {},
   "source": [
    "This data set contains information from the Ames Assessor's Office, which is used to compute assessed values for individual residential properties sold in Ames, IA from 2006 to 2010. A full description of the data is available [here](https://jse.amstat.org/v19n3/decock/DataDocumentation.txt)."
   ]
  },
  {
   "cell_type": "markdown",
   "id": "186ffa0e-c96b-457e-a9a7-e1503a61ca23",
   "metadata": {},
   "source": [
    "### Importing data"
   ]
  },
  {
   "cell_type": "code",
   "execution_count": 5,
   "id": "9f528a3b-3ca7-4ecb-a35a-2befe7be869d",
   "metadata": {
    "tags": []
   },
   "outputs": [],
   "source": [
    "import numpy as np\n",
    "import pandas as pd\n",
    "import matplotlib.pyplot as plt\n",
    "import seaborn as sns\n",
    "\n"
   ]
  },
  {
   "cell_type": "code",
   "execution_count": 6,
   "id": "e92a2d71-fa28-4256-87dd-5d33d1898e5c",
   "metadata": {},
   "outputs": [
    {
     "data": {
      "text/html": [
       "<div>\n",
       "<style scoped>\n",
       "    .dataframe tbody tr th:only-of-type {\n",
       "        vertical-align: middle;\n",
       "    }\n",
       "\n",
       "    .dataframe tbody tr th {\n",
       "        vertical-align: top;\n",
       "    }\n",
       "\n",
       "    .dataframe thead th {\n",
       "        text-align: right;\n",
       "    }\n",
       "</style>\n",
       "<table border=\"1\" class=\"dataframe\">\n",
       "  <thead>\n",
       "    <tr style=\"text-align: right;\">\n",
       "      <th></th>\n",
       "      <th>Id</th>\n",
       "      <th>PID</th>\n",
       "      <th>MS SubClass</th>\n",
       "      <th>MS Zoning</th>\n",
       "      <th>Lot Frontage</th>\n",
       "      <th>Lot Area</th>\n",
       "      <th>Street</th>\n",
       "      <th>Alley</th>\n",
       "      <th>Lot Shape</th>\n",
       "      <th>Land Contour</th>\n",
       "      <th>...</th>\n",
       "      <th>Screen Porch</th>\n",
       "      <th>Pool Area</th>\n",
       "      <th>Pool QC</th>\n",
       "      <th>Fence</th>\n",
       "      <th>Misc Feature</th>\n",
       "      <th>Misc Val</th>\n",
       "      <th>Mo Sold</th>\n",
       "      <th>Yr Sold</th>\n",
       "      <th>Sale Type</th>\n",
       "      <th>SalePrice</th>\n",
       "    </tr>\n",
       "  </thead>\n",
       "  <tbody>\n",
       "    <tr>\n",
       "      <th>0</th>\n",
       "      <td>109</td>\n",
       "      <td>533352170</td>\n",
       "      <td>60</td>\n",
       "      <td>RL</td>\n",
       "      <td>NaN</td>\n",
       "      <td>13517</td>\n",
       "      <td>Pave</td>\n",
       "      <td>NaN</td>\n",
       "      <td>IR1</td>\n",
       "      <td>Lvl</td>\n",
       "      <td>...</td>\n",
       "      <td>0</td>\n",
       "      <td>0</td>\n",
       "      <td>NaN</td>\n",
       "      <td>NaN</td>\n",
       "      <td>NaN</td>\n",
       "      <td>0</td>\n",
       "      <td>3</td>\n",
       "      <td>2010</td>\n",
       "      <td>WD</td>\n",
       "      <td>130500</td>\n",
       "    </tr>\n",
       "    <tr>\n",
       "      <th>1</th>\n",
       "      <td>544</td>\n",
       "      <td>531379050</td>\n",
       "      <td>60</td>\n",
       "      <td>RL</td>\n",
       "      <td>43.0</td>\n",
       "      <td>11492</td>\n",
       "      <td>Pave</td>\n",
       "      <td>NaN</td>\n",
       "      <td>IR1</td>\n",
       "      <td>Lvl</td>\n",
       "      <td>...</td>\n",
       "      <td>0</td>\n",
       "      <td>0</td>\n",
       "      <td>NaN</td>\n",
       "      <td>NaN</td>\n",
       "      <td>NaN</td>\n",
       "      <td>0</td>\n",
       "      <td>4</td>\n",
       "      <td>2009</td>\n",
       "      <td>WD</td>\n",
       "      <td>220000</td>\n",
       "    </tr>\n",
       "    <tr>\n",
       "      <th>2</th>\n",
       "      <td>153</td>\n",
       "      <td>535304180</td>\n",
       "      <td>20</td>\n",
       "      <td>RL</td>\n",
       "      <td>68.0</td>\n",
       "      <td>7922</td>\n",
       "      <td>Pave</td>\n",
       "      <td>NaN</td>\n",
       "      <td>Reg</td>\n",
       "      <td>Lvl</td>\n",
       "      <td>...</td>\n",
       "      <td>0</td>\n",
       "      <td>0</td>\n",
       "      <td>NaN</td>\n",
       "      <td>NaN</td>\n",
       "      <td>NaN</td>\n",
       "      <td>0</td>\n",
       "      <td>1</td>\n",
       "      <td>2010</td>\n",
       "      <td>WD</td>\n",
       "      <td>109000</td>\n",
       "    </tr>\n",
       "    <tr>\n",
       "      <th>3</th>\n",
       "      <td>318</td>\n",
       "      <td>916386060</td>\n",
       "      <td>60</td>\n",
       "      <td>RL</td>\n",
       "      <td>73.0</td>\n",
       "      <td>9802</td>\n",
       "      <td>Pave</td>\n",
       "      <td>NaN</td>\n",
       "      <td>Reg</td>\n",
       "      <td>Lvl</td>\n",
       "      <td>...</td>\n",
       "      <td>0</td>\n",
       "      <td>0</td>\n",
       "      <td>NaN</td>\n",
       "      <td>NaN</td>\n",
       "      <td>NaN</td>\n",
       "      <td>0</td>\n",
       "      <td>4</td>\n",
       "      <td>2010</td>\n",
       "      <td>WD</td>\n",
       "      <td>174000</td>\n",
       "    </tr>\n",
       "    <tr>\n",
       "      <th>4</th>\n",
       "      <td>255</td>\n",
       "      <td>906425045</td>\n",
       "      <td>50</td>\n",
       "      <td>RL</td>\n",
       "      <td>82.0</td>\n",
       "      <td>14235</td>\n",
       "      <td>Pave</td>\n",
       "      <td>NaN</td>\n",
       "      <td>IR1</td>\n",
       "      <td>Lvl</td>\n",
       "      <td>...</td>\n",
       "      <td>0</td>\n",
       "      <td>0</td>\n",
       "      <td>NaN</td>\n",
       "      <td>NaN</td>\n",
       "      <td>NaN</td>\n",
       "      <td>0</td>\n",
       "      <td>3</td>\n",
       "      <td>2010</td>\n",
       "      <td>WD</td>\n",
       "      <td>138500</td>\n",
       "    </tr>\n",
       "  </tbody>\n",
       "</table>\n",
       "<p>5 rows × 81 columns</p>\n",
       "</div>"
      ],
      "text/plain": [
       "    Id        PID  MS SubClass MS Zoning  Lot Frontage  Lot Area Street Alley  \\\n",
       "0  109  533352170           60        RL           NaN     13517   Pave   NaN   \n",
       "1  544  531379050           60        RL          43.0     11492   Pave   NaN   \n",
       "2  153  535304180           20        RL          68.0      7922   Pave   NaN   \n",
       "3  318  916386060           60        RL          73.0      9802   Pave   NaN   \n",
       "4  255  906425045           50        RL          82.0     14235   Pave   NaN   \n",
       "\n",
       "  Lot Shape Land Contour  ... Screen Porch Pool Area Pool QC Fence  \\\n",
       "0       IR1          Lvl  ...            0         0     NaN   NaN   \n",
       "1       IR1          Lvl  ...            0         0     NaN   NaN   \n",
       "2       Reg          Lvl  ...            0         0     NaN   NaN   \n",
       "3       Reg          Lvl  ...            0         0     NaN   NaN   \n",
       "4       IR1          Lvl  ...            0         0     NaN   NaN   \n",
       "\n",
       "  Misc Feature Misc Val Mo Sold Yr Sold  Sale Type  SalePrice  \n",
       "0          NaN        0       3    2010        WD      130500  \n",
       "1          NaN        0       4    2009        WD      220000  \n",
       "2          NaN        0       1    2010        WD      109000  \n",
       "3          NaN        0       4    2010        WD      174000  \n",
       "4          NaN        0       3    2010        WD      138500  \n",
       "\n",
       "[5 rows x 81 columns]"
      ]
     },
     "execution_count": 6,
     "metadata": {},
     "output_type": "execute_result"
    }
   ],
   "source": [
    "ames = pd.read_csv('../datasets/train.csv')\n",
    "ames.head()"
   ]
  },
  {
   "cell_type": "code",
   "execution_count": 7,
   "id": "dd474df0-4585-4400-bcd2-060bfbdb6854",
   "metadata": {},
   "outputs": [
    {
     "data": {
      "text/plain": [
       "(2051, 81)"
      ]
     },
     "execution_count": 7,
     "metadata": {},
     "output_type": "execute_result"
    }
   ],
   "source": [
    "ames.shape"
   ]
  },
  {
   "cell_type": "markdown",
   "id": "13788598-abeb-4baa-8795-d6866459ac98",
   "metadata": {},
   "source": [
    "## Data Cleaning"
   ]
  },
  {
   "cell_type": "markdown",
   "id": "cd770dac-2c24-42d3-a22e-3b7d4570e8f3",
   "metadata": {},
   "source": [
    "This notebook evaluates the observations in the sample and determines whether any data cleaning is necessary before proceeding to the modeling step. In this process, various exploratory data analysis techniques will also be employed."
   ]
  },
  {
   "cell_type": "markdown",
   "id": "e3212bde-b64e-47e4-a3ce-4e8dfbe0baed",
   "metadata": {},
   "source": [
    "#### Duplicates"
   ]
  },
  {
   "cell_type": "code",
   "execution_count": 8,
   "id": "7cd55351-1060-4afb-9969-48fbc32a9269",
   "metadata": {},
   "outputs": [
    {
     "name": "stdout",
     "output_type": "stream",
     "text": [
      "0\n"
     ]
    },
    {
     "data": {
      "text/plain": [
       "0"
      ]
     },
     "execution_count": 8,
     "metadata": {},
     "output_type": "execute_result"
    }
   ],
   "source": [
    "# There are no complete duplicates. This does not mean duplicates do not exist. I'm still not fully sure of the \n",
    "# data structure. \n",
    "print(ames.duplicated().sum())\n",
    "ames.duplicated(subset=['Id']).sum()"
   ]
  },
  {
   "cell_type": "markdown",
   "id": "1eb3ddd9-aa40-45ef-a52d-f2b696e3b55e",
   "metadata": {},
   "source": [
    "> There are no duplicate rows in the sample."
   ]
  },
  {
   "cell_type": "markdown",
   "id": "9455d39d-d430-4fad-be04-311e68c027d9",
   "metadata": {},
   "source": [
    "#### Renaming column names:"
   ]
  },
  {
   "cell_type": "code",
   "execution_count": 9,
   "id": "699ebb76-e87c-4c04-bc63-2983f25a57ac",
   "metadata": {},
   "outputs": [],
   "source": [
    "ames.columns = ames.columns.str.lower().str.replace(' ', '_')\n",
    "ames.rename(columns={'id':'Id', 'saleprice':'SalePrice', 'year_remod/add':'year_remod', '2nd_flr_sf':'second_flr_sf', \n",
    "                         '1st_flr_sf':'first_flr_sf'}, inplace=True)"
   ]
  },
  {
   "cell_type": "markdown",
   "id": "75006c4f-ffad-41c2-93a8-e3503a7eefc4",
   "metadata": {},
   "source": [
    "PID is a unique identifier. Goven that we already have id. There is no need to keep PID."
   ]
  },
  {
   "cell_type": "code",
   "execution_count": 10,
   "id": "08ea1c01-60a0-49bc-9f89-ae0ea515afdb",
   "metadata": {},
   "outputs": [],
   "source": [
    "for col in ['alley', 'fence', 'fireplace_qu', 'garage_finish', 'garage_type', 'bsmt_exposure', 'bsmt_cond', 'bsmt_qual', \n",
    "            'mas_vnr_type', 'bsmtfin_type_1', 'bsmtfin_type_2', 'electrical']:\n",
    "    ames[col].fillna('missing', inplace=True)\n",
    "        "
   ]
  },
  {
   "cell_type": "code",
   "execution_count": 11,
   "id": "d52cf9cb-4f64-4104-9322-4e73896662ed",
   "metadata": {},
   "outputs": [
    {
     "data": {
      "text/plain": [
       "missing    1000\n",
       "Gd          523\n",
       "TA          407\n",
       "Fa           59\n",
       "Po           31\n",
       "Ex           31\n",
       "Name: fireplace_qu, dtype: int64"
      ]
     },
     "execution_count": 11,
     "metadata": {},
     "output_type": "execute_result"
    }
   ],
   "source": [
    "ames['fireplace_qu'].value_counts(dropna=False)"
   ]
  },
  {
   "cell_type": "code",
   "execution_count": 12,
   "id": "515691a1-c251-47a0-96ad-7c7211d38435",
   "metadata": {
    "tags": []
   },
   "outputs": [
    {
     "data": {
      "text/plain": [
       "2051"
      ]
     },
     "execution_count": 12,
     "metadata": {},
     "output_type": "execute_result"
    }
   ],
   "source": [
    "ames['pid'].nunique()"
   ]
  },
  {
   "cell_type": "markdown",
   "id": "3ae10a76-a913-4825-8c72-1a4e1e26eee9",
   "metadata": {},
   "source": [
    "Based on the data description, we know that the `PID` column represents the Parcel Identification Number, and it is unique for all rows in the sample. Since we already have the `Id` column, which presumably serves as a unique identifier for each row, there is no need to retain the `PID` column."
   ]
  },
  {
   "cell_type": "markdown",
   "id": "61029289-5ad5-4ade-843d-e083bd1fc2bd",
   "metadata": {},
   "source": [
    "### Missing Values"
   ]
  },
  {
   "cell_type": "code",
   "execution_count": 13,
   "id": "eff8d738-bb5f-459b-80f8-92edcd996624",
   "metadata": {},
   "outputs": [
    {
     "data": {
      "text/plain": [
       "pool_qc            2042\n",
       "misc_feature       1986\n",
       "lot_frontage        330\n",
       "garage_yr_blt       114\n",
       "garage_qual         114\n",
       "garage_cond         114\n",
       "mas_vnr_area         22\n",
       "bsmt_full_bath        2\n",
       "bsmt_half_bath        2\n",
       "bsmtfin_sf_2          1\n",
       "bsmt_unf_sf           1\n",
       "bsmtfin_sf_1          1\n",
       "total_bsmt_sf         1\n",
       "garage_area           1\n",
       "garage_cars           1\n",
       "functional            0\n",
       "full_bath             0\n",
       "half_bath             0\n",
       "bedroom_abvgr         0\n",
       "kitchen_abvgr         0\n",
       "gr_liv_area           0\n",
       "kitchen_qual          0\n",
       "low_qual_fin_sf       0\n",
       "totrms_abvgrd         0\n",
       "Id                    0\n",
       "garage_finish         0\n",
       "fireplaces            0\n",
       "screen_porch          0\n",
       "sale_type             0\n",
       "yr_sold               0\n",
       "dtype: int64"
      ]
     },
     "execution_count": 13,
     "metadata": {},
     "output_type": "execute_result"
    }
   ],
   "source": [
    "ames.isna().sum().sort_values(ascending=False).head(30)"
   ]
  },
  {
   "cell_type": "markdown",
   "id": "d51ab20d-b026-4627-898b-10204f7d1c7d",
   "metadata": {},
   "source": [
    "> As can be observed, there are several features in the dataset that contain missing values. In the following subsection, I will delve into each of these features individually to analyze and address the missing data."
   ]
  },
  {
   "cell_type": "markdown",
   "id": "af82273f-1c6e-4b62-8d34-3614078be231",
   "metadata": {},
   "source": [
    "### Handling missing values"
   ]
  },
  {
   "cell_type": "markdown",
   "id": "c40b9773-8ccc-4e2d-9c6c-6eab5889aee9",
   "metadata": {},
   "source": [
    "#### Handling Missing values among categorical variables"
   ]
  },
  {
   "cell_type": "code",
   "execution_count": 14,
   "id": "a23e29d9-60e0-4abc-bc97-c11955de50c8",
   "metadata": {},
   "outputs": [
    {
     "data": {
      "text/plain": [
       "NaN    2042\n",
       "Gd        4\n",
       "Fa        2\n",
       "TA        2\n",
       "Ex        1\n",
       "Name: pool_qc, dtype: int64"
      ]
     },
     "execution_count": 14,
     "metadata": {},
     "output_type": "execute_result"
    }
   ],
   "source": [
    "ames['pool_qc'].value_counts(dropna=False)"
   ]
  },
  {
   "cell_type": "markdown",
   "id": "8cd0d700-2780-4034-bd55-8feaaa2d8d28",
   "metadata": {},
   "source": [
    "The presence of \"NA\" values in the `pool_qc` column indicates that the house does not have a pool. Since only a few houses have pools with any quality information available, one option could be to remove the `pool_qc` variable altogether. Alternatively, you could create a dummy variable that indicates whether the house has a pool or not. This dummy variable would have a value of 1 if the house has a pool and 0 if it does not. This approach can simplify the analysis and modeling process while capturing the presence or absence of a pool as a binary feature"
   ]
  },
  {
   "cell_type": "code",
   "execution_count": 15,
   "id": "a99b9cd6-186a-4424-92b0-a5f167011d1c",
   "metadata": {},
   "outputs": [
    {
     "data": {
      "text/plain": [
       "NaN     0.968308\n",
       "Shed    0.027304\n",
       "Gar2    0.001950\n",
       "Othr    0.001463\n",
       "TenC    0.000488\n",
       "Elev    0.000488\n",
       "Name: misc_feature, dtype: float64"
      ]
     },
     "execution_count": 15,
     "metadata": {},
     "output_type": "execute_result"
    }
   ],
   "source": [
    "ames['misc_feature'].value_counts(normalize=True, dropna=False)"
   ]
  },
  {
   "cell_type": "code",
   "execution_count": 16,
   "id": "48c078be-8ef0-48f2-bcf1-b3eccb48b4f9",
   "metadata": {},
   "outputs": [
    {
     "data": {
      "text/plain": [
       "missing    0.804973\n",
       "MnPrv      0.110678\n",
       "GdPrv      0.040468\n",
       "GdWo       0.039005\n",
       "MnWw       0.004876\n",
       "Name: fence, dtype: float64"
      ]
     },
     "execution_count": 16,
     "metadata": {},
     "output_type": "execute_result"
    }
   ],
   "source": [
    "ames['fence'].value_counts(normalize=True, dropna=False)"
   ]
  },
  {
   "cell_type": "markdown",
   "id": "c7392c63-3d24-4a1a-a608-677a0a805044",
   "metadata": {},
   "source": [
    "Same as `pool_qc`, I'm going to create a new column that represents whether the house has additional features. Since this is the second variable with the same problem, I'm going to write a function that automates this task. Using this funtion  I also, create a column that that indicate whether a house has fence (`have_fence`)."
   ]
  },
  {
   "cell_type": "code",
   "execution_count": 17,
   "id": "ee20c2bf-596d-4905-95e0-b203134d755d",
   "metadata": {
    "tags": []
   },
   "outputs": [],
   "source": [
    "def is_not_na(col, name):\n",
    "    ames[name] = np.where(ames[col].isna(), 1, 0)"
   ]
  },
  {
   "cell_type": "code",
   "execution_count": 18,
   "id": "417bae43-886e-4bbc-8095-f290ff802e57",
   "metadata": {},
   "outputs": [],
   "source": [
    "is_not_na(col='pool_qc', name='have_pool')\n",
    "is_not_na(col='misc_feature', name='have_misc_features')\n",
    "is_not_na(col='fence', name='have_fence')"
   ]
  },
  {
   "cell_type": "code",
   "execution_count": null,
   "id": "87beb009-aa5c-4acd-95ca-0285d7c5176e",
   "metadata": {},
   "outputs": [],
   "source": []
  },
  {
   "cell_type": "code",
   "execution_count": 19,
   "id": "acbc9299-d66b-4375-bc0c-6be23d1a6743",
   "metadata": {},
   "outputs": [
    {
     "data": {
      "text/plain": [
       "1    0.995612\n",
       "0    0.004388\n",
       "Name: have_pool, dtype: float64"
      ]
     },
     "execution_count": 19,
     "metadata": {},
     "output_type": "execute_result"
    }
   ],
   "source": [
    "ames['have_pool'].value_counts(normalize=True, dropna=False)"
   ]
  },
  {
   "cell_type": "markdown",
   "id": "645d585c-f8cb-4a3b-be46-bdcb315a6055",
   "metadata": {},
   "source": []
  },
  {
   "cell_type": "code",
   "execution_count": 20,
   "id": "9cc2e784-b09b-4da3-88e9-9edc7b774854",
   "metadata": {},
   "outputs": [
    {
     "data": {
      "text/plain": [
       "1    0.968308\n",
       "0    0.031692\n",
       "Name: have_misc_features, dtype: float64"
      ]
     },
     "execution_count": 20,
     "metadata": {},
     "output_type": "execute_result"
    }
   ],
   "source": [
    "ames['have_misc_features'].value_counts(normalize=True, dropna=False)"
   ]
  },
  {
   "cell_type": "markdown",
   "id": "23d8313d-f27a-40ef-8ca3-0ae72bb433be",
   "metadata": {},
   "source": []
  },
  {
   "cell_type": "code",
   "execution_count": 21,
   "id": "4b95ddeb-2dad-401e-a204-e6070b516684",
   "metadata": {},
   "outputs": [
    {
     "data": {
      "text/plain": [
       "0    1.0\n",
       "Name: have_fence, dtype: float64"
      ]
     },
     "execution_count": 21,
     "metadata": {},
     "output_type": "execute_result"
    }
   ],
   "source": [
    "ames['have_fence'].value_counts(normalize=True, dropna=False)"
   ]
  },
  {
   "cell_type": "markdown",
   "id": "2f651822-28a1-4620-9ac1-fc7513014197",
   "metadata": {},
   "source": []
  },
  {
   "cell_type": "code",
   "execution_count": 22,
   "id": "0b4f89d2-952a-49f0-9df6-7345a2ab7107",
   "metadata": {},
   "outputs": [
    {
     "data": {
      "text/plain": [
       "missing    0.931741\n",
       "Grvl       0.041443\n",
       "Pave       0.026816\n",
       "Name: alley, dtype: float64"
      ]
     },
     "execution_count": 22,
     "metadata": {},
     "output_type": "execute_result"
    }
   ],
   "source": [
    "ames['alley'].value_counts(normalize=True, dropna=False)\n",
    "#replacing NaN with no Alley access"
   ]
  },
  {
   "cell_type": "code",
   "execution_count": 23,
   "id": "9522b55a-b20f-47c8-af2f-327bbbd0080a",
   "metadata": {},
   "outputs": [],
   "source": [
    "ames['alley'] = ames['alley'].map({'Grvl':'gravel', 'Pave':'paved', np.nan:'no_alley_access'})"
   ]
  },
  {
   "cell_type": "markdown",
   "id": "f800ed0c-cf31-43ef-8920-eb6d7594858e",
   "metadata": {},
   "source": []
  },
  {
   "cell_type": "code",
   "execution_count": 24,
   "id": "915599f2-ef77-4dbb-97d2-7d9f5b26c4ad",
   "metadata": {
    "tags": []
   },
   "outputs": [
    {
     "data": {
      "text/plain": [
       "missing    0.804973\n",
       "MnPrv      0.110678\n",
       "GdPrv      0.040468\n",
       "GdWo       0.039005\n",
       "MnWw       0.004876\n",
       "Name: fence, dtype: float64"
      ]
     },
     "execution_count": 24,
     "metadata": {},
     "output_type": "execute_result"
    }
   ],
   "source": [
    "ames['fence'].value_counts(normalize=True, dropna=False)\n",
    "\n",
    "       # GdPrv\tGood Privacy\n",
    "       # MnPrv\tMinimum Privacy\n",
    "       # GdWo\tGood Wood\n",
    "       # MnWw\tMinimum Wood/Wire\n",
    "       # NA\tNo Fence"
   ]
  },
  {
   "cell_type": "code",
   "execution_count": 25,
   "id": "964d8ecc-3493-4c0a-a2b1-a39f65880b4c",
   "metadata": {},
   "outputs": [],
   "source": [
    "ames['fence'] = ames['fence'].map({'GdPrv':'good_privacy', 'MnPrv':'min_privacy', 'GdWo':'good_wood', 'MnWw': 'min_wood/wire', np.nan:'no_fence'})\n",
    "ames['fence'] = pd.Categorical(ames['fence'], categories=['good_privacy', 'min_privacy', 'good_wood', 'min_wood/wire', 'no_fence'], ordered=True) "
   ]
  },
  {
   "cell_type": "markdown",
   "id": "ff062f8b-6d8a-4d84-bf5b-bae572cc16b7",
   "metadata": {},
   "source": []
  },
  {
   "cell_type": "code",
   "execution_count": 26,
   "id": "f44283b4-44ce-4752-a848-09517584f572",
   "metadata": {},
   "outputs": [],
   "source": [
    "ames['fireplace_qu'] = ames['fireplace_qu'].map({'Ex': 'excellent', 'Gd':'good', 'TA':'average', 'Fa': 'fair', 'Po':'poor', np.nan:'no_fireplace'})\n",
    "ames['fireplace_qu'] = pd.Categorical(ames['fireplace_qu'], categories=['excellent', 'good', 'average', 'fair', 'poor', 'no_fireplace'], ordered=True) "
   ]
  },
  {
   "cell_type": "code",
   "execution_count": 27,
   "id": "9dde1350-f079-4141-a4cc-4e15031366c7",
   "metadata": {},
   "outputs": [
    {
     "data": {
      "text/plain": [
       "NaN             0.487567\n",
       "good            0.254998\n",
       "average         0.198440\n",
       "fair            0.028766\n",
       "excellent       0.015115\n",
       "poor            0.015115\n",
       "no_fireplace    0.000000\n",
       "Name: fireplace_qu, dtype: float64"
      ]
     },
     "execution_count": 27,
     "metadata": {},
     "output_type": "execute_result"
    }
   ],
   "source": [
    "ames['fireplace_qu'].value_counts(normalize=True, dropna=False)"
   ]
  },
  {
   "cell_type": "markdown",
   "id": "5a1e14b9-2aee-442d-a4e3-3569c8990592",
   "metadata": {},
   "source": []
  },
  {
   "cell_type": "code",
   "execution_count": 28,
   "id": "cd480322-e934-4881-b57d-06722e157bf0",
   "metadata": {
    "tags": []
   },
   "outputs": [
    {
     "data": {
      "text/plain": [
       "Unf        0.413944\n",
       "RFn        0.282301\n",
       "Fin        0.248172\n",
       "missing    0.055583\n",
       "Name: garage_finish, dtype: float64"
      ]
     },
     "execution_count": 28,
     "metadata": {},
     "output_type": "execute_result"
    }
   ],
   "source": [
    "ames['garage_finish'].value_counts(normalize=True, dropna=False)"
   ]
  },
  {
   "cell_type": "code",
   "execution_count": 29,
   "id": "69b32f87-9b98-44b4-861a-9a5635cbe6e1",
   "metadata": {},
   "outputs": [],
   "source": [
    "ames['garage_finish'] = ames['garage_finish'].map({'Fin': 'finished', 'RFn':'rough_finished', 'Unf':'unfinished', np.nan:'no_garage'})\n",
    "ames['garage_finish'] = pd.Categorical(ames['garage_finish'], categories=['finished', 'rough_finished', 'unfinished', 'no_garage'], ordered=True) "
   ]
  },
  {
   "cell_type": "markdown",
   "id": "a4308158-4378-43d0-8914-d81380834264",
   "metadata": {},
   "source": [
    "Both `garage_qual` and `garage_cond` exhibit low variance and relatively high missing values. As a result, they will be excluded from the final sample."
   ]
  },
  {
   "cell_type": "markdown",
   "id": "d5bc5586-ba1c-4551-a4c0-793cecd4cef2",
   "metadata": {},
   "source": []
  },
  {
   "cell_type": "code",
   "execution_count": 30,
   "id": "16812d48-a4e4-4d2c-8f94-0727a22ba229",
   "metadata": {},
   "outputs": [
    {
     "data": {
      "text/plain": [
       "TA     0.893223\n",
       "NaN    0.055583\n",
       "Fa     0.039980\n",
       "Gd     0.008776\n",
       "Ex     0.001463\n",
       "Po     0.000975\n",
       "Name: garage_qual, dtype: float64"
      ]
     },
     "execution_count": 30,
     "metadata": {},
     "output_type": "execute_result"
    }
   ],
   "source": [
    "ames['garage_qual'].value_counts(normalize=True, dropna=False)"
   ]
  },
  {
   "cell_type": "markdown",
   "id": "a3776ca6-16e3-4083-8fe2-3a0bdfea73ce",
   "metadata": {},
   "source": []
  },
  {
   "cell_type": "code",
   "execution_count": 31,
   "id": "333be7b9-0f75-447e-8353-c5e53a0f119e",
   "metadata": {},
   "outputs": [
    {
     "data": {
      "text/plain": [
       "TA     0.910775\n",
       "NaN    0.055583\n",
       "Fa     0.022916\n",
       "Gd     0.005851\n",
       "Po     0.003901\n",
       "Ex     0.000975\n",
       "Name: garage_cond, dtype: float64"
      ]
     },
     "execution_count": 31,
     "metadata": {},
     "output_type": "execute_result"
    }
   ],
   "source": [
    "ames['garage_cond'].value_counts(normalize=True, dropna=False)"
   ]
  },
  {
   "cell_type": "markdown",
   "id": "3d68a878-f0f2-46b9-8787-f853454e9944",
   "metadata": {},
   "source": []
  },
  {
   "cell_type": "code",
   "execution_count": 32,
   "id": "9a4fc187-13a5-456d-b417-a9fd069698a3",
   "metadata": {},
   "outputs": [
    {
     "data": {
      "text/plain": [
       "Attchd     0.591419\n",
       "Detchd     0.261336\n",
       "BuiltIn    0.064359\n",
       "missing    0.055095\n",
       "Basment    0.013164\n",
       "2Types     0.009264\n",
       "CarPort    0.005363\n",
       "Name: garage_type, dtype: float64"
      ]
     },
     "execution_count": 32,
     "metadata": {},
     "output_type": "execute_result"
    }
   ],
   "source": [
    "ames['garage_type'].value_counts(normalize=True, dropna=False)"
   ]
  },
  {
   "cell_type": "code",
   "execution_count": 33,
   "id": "0d7b0f81-18d6-44e5-91af-e38ff62d7e32",
   "metadata": {},
   "outputs": [],
   "source": [
    "ames['garage_type'] = ames['garage_type'].map({'Attchd': 'attached_to_home', 'Detchd':'detached_from_home', '2Types':'2types', 'CarPort':'carport', \n",
    "                                               'BuiltIn':'built_in' , 'Basment':'basement_garage', np.nan:'no_garage'})"
   ]
  },
  {
   "cell_type": "markdown",
   "id": "2b4bb0b8-64fc-4226-adac-adb4ca26e0fa",
   "metadata": {},
   "source": []
  },
  {
   "cell_type": "code",
   "execution_count": 34,
   "id": "d6360d7a-82a3-4d51-8473-fdd61037ba2a",
   "metadata": {},
   "outputs": [
    {
     "data": {
      "text/plain": [
       "No         0.652852\n",
       "Av         0.140419\n",
       "Gd         0.098976\n",
       "Mn         0.079473\n",
       "missing    0.028279\n",
       "Name: bsmt_exposure, dtype: float64"
      ]
     },
     "execution_count": 34,
     "metadata": {},
     "output_type": "execute_result"
    }
   ],
   "source": [
    "ames['bsmt_exposure'].value_counts(normalize=True, dropna=False)"
   ]
  },
  {
   "cell_type": "code",
   "execution_count": 35,
   "id": "14c11e71-a813-45df-8df3-57834d7a0565",
   "metadata": {},
   "outputs": [],
   "source": [
    "ames['bsmt_exposure'] = ames['bsmt_exposure'].map({'No': 'no_exposure', 'Mn':'min_exposure', 'Av':'avg_exposure', 'Gd':'good_exposure', np.nan:'no_basement'})\n",
    "\n",
    "ames['bsmt_exposure'] = pd.Categorical(ames['bsmt_exposure'], categories=['good_exposure', 'avg_exposure', 'min_exposure', \n",
    "                                                                          'no_exposure', 'no_basement'], ordered=True)"
   ]
  },
  {
   "cell_type": "markdown",
   "id": "792654dd-edf0-4040-a6ea-04b67836b98f",
   "metadata": {},
   "source": []
  },
  {
   "cell_type": "code",
   "execution_count": 36,
   "id": "5e61b490-7774-4fca-ae60-3ba0cc865b9e",
   "metadata": {
    "tags": []
   },
   "outputs": [
    {
     "data": {
      "text/plain": [
       "GLQ        0.299854\n",
       "Unf        0.294003\n",
       "ALQ        0.142857\n",
       "BLQ        0.097513\n",
       "Rec        0.089225\n",
       "LwQ        0.049732\n",
       "missing    0.026816\n",
       "Name: bsmtfin_type_1, dtype: float64"
      ]
     },
     "execution_count": 36,
     "metadata": {},
     "output_type": "execute_result"
    }
   ],
   "source": [
    "ames['bsmtfin_type_1'].value_counts(normalize=True, dropna=False)"
   ]
  },
  {
   "cell_type": "code",
   "execution_count": 37,
   "id": "3bf339d1-2d9c-40bc-9782-d2890222430e",
   "metadata": {},
   "outputs": [],
   "source": [
    "ames['bsmtfin_type_1'] = ames['bsmtfin_type_1'].fillna('no_basement').str.lower()\n",
    "ames['bsmtfin_type_1'] = pd.Categorical(ames['bsmtfin_type_1'], categories=['glq', 'alq', 'blq', 'rec', 'lwq', 'unf', 'no_basement'], ordered=True)\n",
    "\n",
    "# GLQ\tGood Living Quarters\n",
    "# ALQ\tAverage Living Quarters\n",
    "# BLQ\tBelow Average Living Quarters\t\n",
    "# Rec\tAverage Rec Room\n",
    "# LwQ\tLow Quality\n",
    "# Unf\tUnfinshed\n",
    "# NA\tNo Basement"
   ]
  },
  {
   "cell_type": "code",
   "execution_count": 38,
   "id": "e7365ffe-f8cb-4de7-a21a-3fe028838870",
   "metadata": {},
   "outputs": [
    {
     "data": {
      "text/plain": [
       "Unf        0.852755\n",
       "Rec        0.039005\n",
       "LwQ        0.029254\n",
       "missing    0.027304\n",
       "BLQ        0.023403\n",
       "ALQ        0.017065\n",
       "GLQ        0.011214\n",
       "Name: bsmtfin_type_2, dtype: float64"
      ]
     },
     "execution_count": 38,
     "metadata": {},
     "output_type": "execute_result"
    }
   ],
   "source": [
    "ames['bsmtfin_type_2'].value_counts(normalize=True, dropna=False)"
   ]
  },
  {
   "cell_type": "code",
   "execution_count": 39,
   "id": "1a970252-2733-49d3-9c3c-20cc1d10ceec",
   "metadata": {},
   "outputs": [],
   "source": [
    "ames['bsmtfin_type_2'] = ames['bsmtfin_type_2'].fillna('no_basement').str.lower()\n",
    "ames['bsmtfin_type_2'] = pd.Categorical(ames['bsmtfin_type_2'], categories=['glq', 'alq', 'blq', 'rec', 'lwq', 'unf', 'no_basement'], ordered=True)"
   ]
  },
  {
   "cell_type": "markdown",
   "id": "aadbf867-8db4-4eb7-b6fc-f86d4ff2bf30",
   "metadata": {},
   "source": [
    "Due to the limited variation observed in `bsmtfin_type_2`, it will also be removed from the sample. This variable consists of seven categories, with one category accounting for 85 percent of the sample and the remaining six categories collectively accounting for 15 percent. While the variable itself will be removed, a binary feature will be created based on it to capture the presence or absence of a specific type of basement finish."
   ]
  },
  {
   "cell_type": "code",
   "execution_count": 40,
   "id": "cafa726b-0160-4a15-bb12-3c27642df61c",
   "metadata": {},
   "outputs": [
    {
     "data": {
      "text/html": [
       "<div>\n",
       "<style scoped>\n",
       "    .dataframe tbody tr th:only-of-type {\n",
       "        vertical-align: middle;\n",
       "    }\n",
       "\n",
       "    .dataframe tbody tr th {\n",
       "        vertical-align: top;\n",
       "    }\n",
       "\n",
       "    .dataframe thead th {\n",
       "        text-align: right;\n",
       "    }\n",
       "</style>\n",
       "<table border=\"1\" class=\"dataframe\">\n",
       "  <thead>\n",
       "    <tr style=\"text-align: right;\">\n",
       "      <th>bsmtfin_type_2</th>\n",
       "      <th>glq</th>\n",
       "      <th>alq</th>\n",
       "      <th>blq</th>\n",
       "      <th>rec</th>\n",
       "      <th>lwq</th>\n",
       "      <th>unf</th>\n",
       "      <th>All</th>\n",
       "    </tr>\n",
       "    <tr>\n",
       "      <th>bsmtfin_type_1</th>\n",
       "      <th></th>\n",
       "      <th></th>\n",
       "      <th></th>\n",
       "      <th></th>\n",
       "      <th></th>\n",
       "      <th></th>\n",
       "      <th></th>\n",
       "    </tr>\n",
       "  </thead>\n",
       "  <tbody>\n",
       "    <tr>\n",
       "      <th>glq</th>\n",
       "      <td>0</td>\n",
       "      <td>11</td>\n",
       "      <td>6</td>\n",
       "      <td>17</td>\n",
       "      <td>11</td>\n",
       "      <td>569</td>\n",
       "      <td>614</td>\n",
       "    </tr>\n",
       "    <tr>\n",
       "      <th>alq</th>\n",
       "      <td>3</td>\n",
       "      <td>0</td>\n",
       "      <td>23</td>\n",
       "      <td>25</td>\n",
       "      <td>16</td>\n",
       "      <td>226</td>\n",
       "      <td>293</td>\n",
       "    </tr>\n",
       "    <tr>\n",
       "      <th>blq</th>\n",
       "      <td>7</td>\n",
       "      <td>3</td>\n",
       "      <td>1</td>\n",
       "      <td>28</td>\n",
       "      <td>18</td>\n",
       "      <td>143</td>\n",
       "      <td>200</td>\n",
       "    </tr>\n",
       "    <tr>\n",
       "      <th>rec</th>\n",
       "      <td>4</td>\n",
       "      <td>10</td>\n",
       "      <td>10</td>\n",
       "      <td>0</td>\n",
       "      <td>15</td>\n",
       "      <td>144</td>\n",
       "      <td>183</td>\n",
       "    </tr>\n",
       "    <tr>\n",
       "      <th>lwq</th>\n",
       "      <td>9</td>\n",
       "      <td>11</td>\n",
       "      <td>8</td>\n",
       "      <td>10</td>\n",
       "      <td>0</td>\n",
       "      <td>64</td>\n",
       "      <td>102</td>\n",
       "    </tr>\n",
       "    <tr>\n",
       "      <th>unf</th>\n",
       "      <td>0</td>\n",
       "      <td>0</td>\n",
       "      <td>0</td>\n",
       "      <td>0</td>\n",
       "      <td>0</td>\n",
       "      <td>603</td>\n",
       "      <td>603</td>\n",
       "    </tr>\n",
       "    <tr>\n",
       "      <th>All</th>\n",
       "      <td>23</td>\n",
       "      <td>35</td>\n",
       "      <td>48</td>\n",
       "      <td>80</td>\n",
       "      <td>60</td>\n",
       "      <td>1749</td>\n",
       "      <td>1995</td>\n",
       "    </tr>\n",
       "  </tbody>\n",
       "</table>\n",
       "</div>"
      ],
      "text/plain": [
       "bsmtfin_type_2  glq  alq  blq  rec  lwq   unf   All\n",
       "bsmtfin_type_1                                     \n",
       "glq               0   11    6   17   11   569   614\n",
       "alq               3    0   23   25   16   226   293\n",
       "blq               7    3    1   28   18   143   200\n",
       "rec               4   10   10    0   15   144   183\n",
       "lwq               9   11    8   10    0    64   102\n",
       "unf               0    0    0    0    0   603   603\n",
       "All              23   35   48   80   60  1749  1995"
      ]
     },
     "execution_count": 40,
     "metadata": {},
     "output_type": "execute_result"
    }
   ],
   "source": [
    "pd.crosstab(ames['bsmtfin_type_1'], ames['bsmtfin_type_2'], margins=True)"
   ]
  },
  {
   "cell_type": "code",
   "execution_count": 41,
   "id": "91dc1607-4efe-48a5-ba37-2a40d0f68c11",
   "metadata": {},
   "outputs": [],
   "source": [
    "ames['bsmtfin_type_2_unf'] = np.where(ames['bsmtfin_type_2'] == 'unf', 'Yes', 'No')"
   ]
  },
  {
   "cell_type": "markdown",
   "id": "d76f744c-6d3b-43c0-a7ec-92800d731251",
   "metadata": {},
   "source": []
  },
  {
   "cell_type": "code",
   "execution_count": 42,
   "id": "8d2f2a09-8bd7-4e6c-a49c-4cac523edb70",
   "metadata": {},
   "outputs": [
    {
     "data": {
      "text/plain": [
       "TA         0.894198\n",
       "Gd         0.043393\n",
       "Fa         0.031692\n",
       "missing    0.026816\n",
       "Po         0.002438\n",
       "Ex         0.001463\n",
       "Name: bsmt_cond, dtype: float64"
      ]
     },
     "execution_count": 42,
     "metadata": {},
     "output_type": "execute_result"
    }
   ],
   "source": [
    "ames['bsmt_cond'].value_counts(normalize=True, dropna=False)\n",
    "       # Ex\tExcellent\n",
    "       # Gd\tGood\n",
    "       # TA\tTypical - slight dampness allowed\n",
    "       # Fa\tFair - dampness or some cracking or settling\n",
    "       # Po\tPoor - Severe cracking, settling, or wetness\n",
    "       # NA\tNo Basement"
   ]
  },
  {
   "cell_type": "code",
   "execution_count": 43,
   "id": "8e36d395-ab51-4a87-b6eb-391dd14ac14b",
   "metadata": {},
   "outputs": [],
   "source": [
    "ames['bsmt_cond'] = ames['bsmt_cond'].map({'Ex': 'excellent', 'Gd':'good', 'TA':'average', 'Fa': 'fair', 'Po':'poor', np.nan:'no_basement'})\n",
    "ames['bsmt_cond'] = pd.Categorical(ames['bsmt_cond'], categories=['excellent', 'good', 'average', 'fair', 'poor', 'no_basement'], ordered=True) "
   ]
  },
  {
   "cell_type": "markdown",
   "id": "76fa03a2-7925-4efb-8646-c7bf8263fb9b",
   "metadata": {},
   "source": []
  },
  {
   "cell_type": "code",
   "execution_count": 44,
   "id": "f03d4d44-0eef-4a56-948e-afd3f5efd1e5",
   "metadata": {},
   "outputs": [
    {
     "data": {
      "text/plain": [
       "TA         0.432472\n",
       "Gd         0.421258\n",
       "Ex         0.089712\n",
       "Fa         0.029254\n",
       "missing    0.026816\n",
       "Po         0.000488\n",
       "Name: bsmt_qual, dtype: float64"
      ]
     },
     "execution_count": 44,
     "metadata": {},
     "output_type": "execute_result"
    }
   ],
   "source": [
    "ames['bsmt_qual'].value_counts(normalize=True, dropna=False)\n",
    "       # Ex\tExcellent (100+ inches)\t\n",
    "       # Gd\tGood (90-99 inches)\n",
    "       # TA\tTypical (80-89 inches)\n",
    "       # Fa\tFair (70-79 inches)\n",
    "       # Po\tPoor (<70 inches\n",
    "       # NA\tNo Basement"
   ]
  },
  {
   "cell_type": "code",
   "execution_count": 45,
   "id": "69b8fe5f-f47e-4019-87d1-5f0e828f31da",
   "metadata": {},
   "outputs": [],
   "source": [
    "ames['bsmt_qual'] = ames['bsmt_qual'].map({'Ex': 'excellent', 'Gd':'good', 'TA':'average', 'Fa': 'fair', 'Po':'poor', np.nan:'no_basement'})\n",
    "ames['bsmt_qual'] = pd.Categorical(ames['bsmt_qual'], categories=['excellent', 'good', 'average', 'fair', 'poor', 'no_basement'], ordered=True) "
   ]
  },
  {
   "cell_type": "markdown",
   "id": "5c414afc-22b6-446f-a087-38e20e0ec504",
   "metadata": {},
   "source": []
  },
  {
   "cell_type": "code",
   "execution_count": 46,
   "id": "af686a1b-dd83-49cf-9a08-004569013762",
   "metadata": {},
   "outputs": [
    {
     "data": {
      "text/plain": [
       "None       0.593857\n",
       "BrkFace    0.307167\n",
       "Stone      0.081911\n",
       "missing    0.010726\n",
       "BrkCmn     0.006338\n",
       "Name: mas_vnr_type, dtype: float64"
      ]
     },
     "execution_count": 46,
     "metadata": {},
     "output_type": "execute_result"
    }
   ],
   "source": [
    "ames['mas_vnr_type'].value_counts(normalize=True, dropna=False)\n",
    "\n",
    "       # BrkCmn\tBrick Common\n",
    "       # BrkFace\tBrick Face\n",
    "       # CBlock\tCinder Block\n",
    "       # None\tNone\n",
    "       # Stone\tStone"
   ]
  },
  {
   "cell_type": "code",
   "execution_count": 47,
   "id": "5a40830a-1038-4e99-b846-af49ad722739",
   "metadata": {},
   "outputs": [
    {
     "data": {
      "text/plain": [
       "None       1218\n",
       "BrkFace     630\n",
       "Stone       168\n",
       "missing      22\n",
       "BrkCmn       13\n",
       "Name: mas_vnr_type, dtype: int64"
      ]
     },
     "execution_count": 47,
     "metadata": {},
     "output_type": "execute_result"
    }
   ],
   "source": [
    "ames['mas_vnr_type'].value_counts()"
   ]
  },
  {
   "cell_type": "code",
   "execution_count": 48,
   "id": "b2211d07-20fb-4854-bbc4-54891b06947b",
   "metadata": {},
   "outputs": [],
   "source": [
    "ames['mas_vnr_type'] = ames['mas_vnr_type'].map({'BrkCmn': 'brick_common', 'BrkFace':'brick_ace', 'Stone':'stone', \n",
    "                                                 'CBlock':'cinder_block', 'None': 'none', np.nan:'none'})"
   ]
  },
  {
   "cell_type": "markdown",
   "id": "917f4273-d256-4658-aa8c-244ab7c2b5ef",
   "metadata": {},
   "source": [
    "### Handling Missing values among numeric variables\n",
    "For numerical features with a small number of missing values that can be sensibly replaced, two common approaches are to substitute the missing values with either 0 or the mean of the variable."
   ]
  },
  {
   "cell_type": "code",
   "execution_count": 49,
   "id": "697e4b53-0226-44f2-94f0-5fc1ef0479ef",
   "metadata": {},
   "outputs": [
    {
     "data": {
      "image/png": "[encoded data removed]",
      "text/plain": [
       "<Figure size 2000x500 with 1 Axes>"
      ]
     },
     "metadata": {},
     "output_type": "display_data"
    }
   ],
   "source": [
    "ames['garage_yr_blt'].value_counts(normalize=True, dropna=False)\n",
    "\n",
    "plt.figure(figsize=(20, 5))\n",
    "sns.countplot(data = ames, x = 'garage_yr_blt')\n",
    "plt.xticks(rotation=90);"
   ]
  },
  {
   "cell_type": "code",
   "execution_count": 50,
   "id": "5ebf7730-4ee4-41ff-ad8b-9169fd1e2209",
   "metadata": {},
   "outputs": [
    {
     "data": {
      "text/html": [
       "<div>\n",
       "<style scoped>\n",
       "    .dataframe tbody tr th:only-of-type {\n",
       "        vertical-align: middle;\n",
       "    }\n",
       "\n",
       "    .dataframe tbody tr th {\n",
       "        vertical-align: top;\n",
       "    }\n",
       "\n",
       "    .dataframe thead th {\n",
       "        text-align: right;\n",
       "    }\n",
       "</style>\n",
       "<table border=\"1\" class=\"dataframe\">\n",
       "  <thead>\n",
       "    <tr style=\"text-align: right;\">\n",
       "      <th></th>\n",
       "      <th>year_built</th>\n",
       "      <th>garage_yr_blt</th>\n",
       "    </tr>\n",
       "  </thead>\n",
       "  <tbody>\n",
       "    <tr>\n",
       "      <th>year_built</th>\n",
       "      <td>1.000000</td>\n",
       "      <td>0.825316</td>\n",
       "    </tr>\n",
       "    <tr>\n",
       "      <th>garage_yr_blt</th>\n",
       "      <td>0.825316</td>\n",
       "      <td>1.000000</td>\n",
       "    </tr>\n",
       "  </tbody>\n",
       "</table>\n",
       "</div>"
      ],
      "text/plain": [
       "               year_built  garage_yr_blt\n",
       "year_built       1.000000       0.825316\n",
       "garage_yr_blt    0.825316       1.000000"
      ]
     },
     "execution_count": 50,
     "metadata": {},
     "output_type": "execute_result"
    }
   ],
   "source": [
    "ames.loc[ames['garage_yr_blt'].notna(), ['year_built', 'garage_yr_blt']].corr()"
   ]
  },
  {
   "cell_type": "code",
   "execution_count": 51,
   "id": "c865aadc-c48f-4beb-8239-821a15bbbb8d",
   "metadata": {},
   "outputs": [
    {
     "data": {
      "text/plain": [
       "<Axes: xlabel='year_built', ylabel='garage_yr_blt'>"
      ]
     },
     "execution_count": 51,
     "metadata": {},
     "output_type": "execute_result"
    },
    {
     "data": {
      "image/png": "[encoded data removed]",
      "text/plain": [
       "<Figure size 640x480 with 1 Axes>"
      ]
     },
     "metadata": {},
     "output_type": "display_data"
    }
   ],
   "source": [
    "sns.scatterplot(data=ames, x='year_built', y='garage_yr_blt', alpha=0.05)"
   ]
  },
  {
   "cell_type": "markdown",
   "id": "abbcb820-f86b-46ee-b6a6-5e3acf5e5185",
   "metadata": {},
   "source": [
    "It is evident that `year_built` and `garage_yr_blt` are highly correlated variables. Additionally, there is a falsely recorded value of 2200 for `garage_yr_blt`. Considering these factors, it is reasonable to drop `garage_yr_blt` from the sample. This variable can be safely removed without significantly impacting the analysis."
   ]
  },
  {
   "cell_type": "markdown",
   "id": "38078625-1b35-45f4-8df0-0b51a4f8c6fc",
   "metadata": {},
   "source": []
  },
  {
   "cell_type": "code",
   "execution_count": 52,
   "id": "29f1aef3-056c-4956-b902-c93599ef88d4",
   "metadata": {},
   "outputs": [
    {
     "data": {
      "image/png": "[encoded data removed]",
      "text/plain": [
       "<Figure size 640x480 with 1 Axes>"
      ]
     },
     "metadata": {},
     "output_type": "display_data"
    }
   ],
   "source": [
    "sns.countplot(data = ames, x = 'bsmt_full_bath');"
   ]
  },
  {
   "cell_type": "code",
   "execution_count": 53,
   "id": "be2e3c17-8a6f-456b-ad58-8aafcd3856c1",
   "metadata": {},
   "outputs": [
    {
     "data": {
      "image/png": "[encoded data removed]",
      "text/plain": [
       "<Figure size 640x480 with 1 Axes>"
      ]
     },
     "metadata": {},
     "output_type": "display_data"
    }
   ],
   "source": [
    "sns.countplot(data = ames, x = 'bsmt_half_bath');\n",
    "#replace na with zero"
   ]
  },
  {
   "cell_type": "code",
   "execution_count": 54,
   "id": "b0dfffca-c329-4cf8-9157-2f279669986b",
   "metadata": {},
   "outputs": [
    {
     "data": {
      "text/plain": [
       "2"
      ]
     },
     "execution_count": 54,
     "metadata": {},
     "output_type": "execute_result"
    }
   ],
   "source": [
    "ames['bsmt_full_bath'].isna().sum()"
   ]
  },
  {
   "cell_type": "code",
   "execution_count": 55,
   "id": "b415a9ad-04b8-4dd2-8377-c75a40fead3d",
   "metadata": {},
   "outputs": [
    {
     "data": {
      "text/plain": [
       "2"
      ]
     },
     "execution_count": 55,
     "metadata": {},
     "output_type": "execute_result"
    }
   ],
   "source": [
    "ames['bsmt_half_bath'].isna().sum()"
   ]
  },
  {
   "cell_type": "code",
   "execution_count": 56,
   "id": "bac4c88d-5042-4cf2-b293-91502cb18dc2",
   "metadata": {},
   "outputs": [],
   "source": [
    "ames['bsmt_full_bath'].fillna(0, inplace=True)\n",
    "ames['bsmt_half_bath'].fillna(0, inplace=True)"
   ]
  },
  {
   "cell_type": "markdown",
   "id": "039cfeae-d0b4-44a9-9d97-4afeda5ab427",
   "metadata": {},
   "source": [
    "We can create a new feature that represents the weighted sum of both full and half baths, utilizing the `bsmt_full_bath` and `bsmt_half_bath` variables. This can be achieved by assigning a weight of 1 to each full bath and a weight of 0.5 to each half bath, and then summing them together. By calculating the weighted sum of full and half baths, we can obtain a single feature that captures the overall count of baths, accounting for both full and half baths in the basement."
   ]
  },
  {
   "cell_type": "code",
   "execution_count": 57,
   "id": "b5237134-81ea-48d2-8c24-782afe130b99",
   "metadata": {},
   "outputs": [],
   "source": [
    "ames['bsmt_total_bath'] =ames['bsmt_full_bath'] + 0.5*ames['bsmt_half_bath'] "
   ]
  },
  {
   "cell_type": "code",
   "execution_count": 58,
   "id": "2a0725c5-8da6-4587-a954-2d09ef556103",
   "metadata": {
    "tags": []
   },
   "outputs": [
    {
     "data": {
      "text/plain": [
       "1"
      ]
     },
     "execution_count": 58,
     "metadata": {},
     "output_type": "execute_result"
    }
   ],
   "source": [
    "ames['garage_area'].isna().sum()"
   ]
  },
  {
   "cell_type": "code",
   "execution_count": 59,
   "id": "34a4457d-2272-4b4f-9759-363502391363",
   "metadata": {},
   "outputs": [],
   "source": [
    "ames['garage_area'].fillna(0, inplace=True)"
   ]
  },
  {
   "cell_type": "markdown",
   "id": "ba9282b5-18da-48ca-8f37-e12666e34973",
   "metadata": {},
   "source": []
  },
  {
   "cell_type": "code",
   "execution_count": 60,
   "id": "ce589848-2efa-4b71-972c-cebe7d598e61",
   "metadata": {},
   "outputs": [
    {
     "data": {
      "image/png": "[encoded data removed]",
      "text/plain": [
       "<Figure size 640x480 with 1 Axes>"
      ]
     },
     "metadata": {},
     "output_type": "display_data"
    }
   ],
   "source": [
    "sns.histplot(data = ames, x = 'garage_area');"
   ]
  },
  {
   "cell_type": "code",
   "execution_count": 61,
   "id": "7b6dffc0-867b-4ac0-a002-3574f1dba458",
   "metadata": {},
   "outputs": [
    {
     "data": {
      "text/plain": [
       "1"
      ]
     },
     "execution_count": 61,
     "metadata": {},
     "output_type": "execute_result"
    }
   ],
   "source": [
    "ames['total_bsmt_sf'].isna().sum()"
   ]
  },
  {
   "cell_type": "code",
   "execution_count": 62,
   "id": "02431053-1c2d-49bf-b5fb-d0739e6422e3",
   "metadata": {},
   "outputs": [],
   "source": [
    "ames['total_bsmt_sf'].fillna(0, inplace=True)"
   ]
  },
  {
   "cell_type": "code",
   "execution_count": 63,
   "id": "d3e05fae-680e-4b3f-aef2-de32e554c052",
   "metadata": {},
   "outputs": [
    {
     "data": {
      "image/png": "[encoded data removed]",
      "text/plain": [
       "<Figure size 640x480 with 1 Axes>"
      ]
     },
     "metadata": {},
     "output_type": "display_data"
    }
   ],
   "source": [
    "sns.histplot(data = ames, x = 'total_bsmt_sf');\n",
    "#replace na with zero"
   ]
  },
  {
   "cell_type": "code",
   "execution_count": 64,
   "id": "b23f76ca-deb5-4392-832a-a2ec6780a9ec",
   "metadata": {},
   "outputs": [
    {
     "data": {
      "text/plain": [
       "1"
      ]
     },
     "execution_count": 64,
     "metadata": {},
     "output_type": "execute_result"
    }
   ],
   "source": [
    "ames['bsmtfin_sf_1'].isna().sum()"
   ]
  },
  {
   "cell_type": "code",
   "execution_count": 65,
   "id": "94bbca89-e98e-48d1-ad6d-eba3d52e7df4",
   "metadata": {},
   "outputs": [],
   "source": [
    "ames['bsmtfin_sf_1'].fillna(0, inplace=True)"
   ]
  },
  {
   "cell_type": "code",
   "execution_count": 66,
   "id": "9a456a53-cb51-4652-9089-24c2721857aa",
   "metadata": {},
   "outputs": [
    {
     "data": {
      "image/png": "[encoded data removed]",
      "text/plain": [
       "<Figure size 640x480 with 1 Axes>"
      ]
     },
     "metadata": {},
     "output_type": "display_data"
    }
   ],
   "source": [
    "sns.histplot(data = ames, x = 'bsmtfin_sf_1');\n",
    "#replace na with 0"
   ]
  },
  {
   "cell_type": "code",
   "execution_count": 67,
   "id": "e2d98907-0796-4f50-a7b0-ae20ba47f59a",
   "metadata": {},
   "outputs": [
    {
     "data": {
      "text/plain": [
       "1"
      ]
     },
     "execution_count": 67,
     "metadata": {},
     "output_type": "execute_result"
    }
   ],
   "source": [
    "ames['bsmtfin_sf_2'].isna().sum()"
   ]
  },
  {
   "cell_type": "code",
   "execution_count": 68,
   "id": "a375706e-d48c-4521-a9c2-1d4e2fcc1c74",
   "metadata": {},
   "outputs": [],
   "source": [
    "ames['bsmtfin_sf_2'].fillna(0, inplace=True)"
   ]
  },
  {
   "cell_type": "code",
   "execution_count": 69,
   "id": "5e22b607-c289-4fdb-a607-f6b69e5e4348",
   "metadata": {},
   "outputs": [
    {
     "data": {
      "image/png": "[encoded data removed]",
      "text/plain": [
       "<Figure size 640x480 with 1 Axes>"
      ]
     },
     "metadata": {},
     "output_type": "display_data"
    }
   ],
   "source": [
    "sns.histplot(data = ames, x = 'bsmtfin_sf_2');"
   ]
  },
  {
   "cell_type": "code",
   "execution_count": 70,
   "id": "8913ad2c-40c0-4356-9f18-827ecec6e0ab",
   "metadata": {},
   "outputs": [
    {
     "data": {
      "text/plain": [
       "1"
      ]
     },
     "execution_count": 70,
     "metadata": {},
     "output_type": "execute_result"
    }
   ],
   "source": [
    "ames['bsmt_unf_sf'].isna().sum()"
   ]
  },
  {
   "cell_type": "code",
   "execution_count": 71,
   "id": "d5c96105-157a-4e58-9989-b7928c6bbc78",
   "metadata": {},
   "outputs": [],
   "source": [
    "ames['bsmt_unf_sf'].fillna(0, inplace=True)"
   ]
  },
  {
   "cell_type": "code",
   "execution_count": 72,
   "id": "016162d1-45cf-419b-a9f6-311cc5b44693",
   "metadata": {},
   "outputs": [
    {
     "data": {
      "image/png": "[encoded data removed]",
      "text/plain": [
       "<Figure size 640x480 with 1 Axes>"
      ]
     },
     "metadata": {},
     "output_type": "display_data"
    }
   ],
   "source": [
    "sns.histplot(data = ames, x = 'bsmt_unf_sf');"
   ]
  },
  {
   "cell_type": "code",
   "execution_count": 73,
   "id": "4b6732ad-2471-416d-bab7-4cd7124b7f66",
   "metadata": {},
   "outputs": [
    {
     "data": {
      "image/png": "[encoded data removed]",
      "text/plain": [
       "<Figure size 640x480 with 1 Axes>"
      ]
     },
     "metadata": {},
     "output_type": "display_data"
    }
   ],
   "source": [
    "sns.countplot(data = ames, x = 'garage_cars');"
   ]
  },
  {
   "cell_type": "markdown",
   "id": "f54b29d2-757c-4538-a420-02da02730ef9",
   "metadata": {},
   "source": [
    "The following features have only one or two missing values, which suggests it is safe to replace those missing values with 0. However, to ensure accuracy, I create an alternative version of the dataset where the missing values are replaced with the mean of the respective feature. This ideally will allow for a more robust analysis and comparison between the two versions."
   ]
  },
  {
   "cell_type": "code",
   "execution_count": 74,
   "id": "82610afd-38e9-44a8-a400-ff1ddec03841",
   "metadata": {},
   "outputs": [],
   "source": [
    "col_with_missing = ['bsmt_full_bath', 'bsmt_half_bath', 'garage_cars', 'bsmt_unf_sf', 'bsmtfin_sf_2', 'bsmtfin_sf_1', 'total_bsmt_sf', 'garage_area']\n",
    "\n",
    "for col in col_with_missing:\n",
    "    ames[col].fillna(0, inplace=True)"
   ]
  },
  {
   "cell_type": "code",
   "execution_count": null,
   "id": "75eec2a4-11e3-442b-9443-a4d274f08240",
   "metadata": {},
   "outputs": [],
   "source": []
  },
  {
   "cell_type": "markdown",
   "id": "7a055864-993b-4d37-a188-c742758cbc7f",
   "metadata": {},
   "source": [
    "Similar to the approach used for other variables discussed above, you can handle missing values in the `lot_frontage` variable by considering two options: replacing them with zero or replacing them with the mean value."
   ]
  },
  {
   "cell_type": "code",
   "execution_count": 75,
   "id": "bfee91a4-73e1-4164-8889-87732411bd5d",
   "metadata": {},
   "outputs": [
    {
     "data": {
      "image/png": "[encoded data removed]",
      "text/plain": [
       "<Figure size 640x480 with 1 Axes>"
      ]
     },
     "metadata": {},
     "output_type": "display_data"
    }
   ],
   "source": [
    "sns.histplot(data = ames, x = 'lot_frontage');"
   ]
  },
  {
   "cell_type": "code",
   "execution_count": 76,
   "id": "1d867aff-1494-4f95-8264-24dbcde64063",
   "metadata": {},
   "outputs": [
    {
     "data": {
      "text/html": [
       "<div>\n",
       "<style scoped>\n",
       "    .dataframe tbody tr th:only-of-type {\n",
       "        vertical-align: middle;\n",
       "    }\n",
       "\n",
       "    .dataframe tbody tr th {\n",
       "        vertical-align: top;\n",
       "    }\n",
       "\n",
       "    .dataframe thead th {\n",
       "        text-align: right;\n",
       "    }\n",
       "</style>\n",
       "<table border=\"1\" class=\"dataframe\">\n",
       "  <thead>\n",
       "    <tr style=\"text-align: right;\">\n",
       "      <th></th>\n",
       "      <th>lot_frontage</th>\n",
       "      <th>SalePrice</th>\n",
       "    </tr>\n",
       "  </thead>\n",
       "  <tbody>\n",
       "    <tr>\n",
       "      <th>lot_frontage</th>\n",
       "      <td>1.000000</td>\n",
       "      <td>0.341842</td>\n",
       "    </tr>\n",
       "    <tr>\n",
       "      <th>SalePrice</th>\n",
       "      <td>0.341842</td>\n",
       "      <td>1.000000</td>\n",
       "    </tr>\n",
       "  </tbody>\n",
       "</table>\n",
       "</div>"
      ],
      "text/plain": [
       "              lot_frontage  SalePrice\n",
       "lot_frontage      1.000000   0.341842\n",
       "SalePrice         0.341842   1.000000"
      ]
     },
     "execution_count": 76,
     "metadata": {},
     "output_type": "execute_result"
    }
   ],
   "source": [
    "ames.loc[ames['lot_frontage'].notna(), ['lot_frontage', 'SalePrice']].corr()"
   ]
  },
  {
   "cell_type": "code",
   "execution_count": 77,
   "id": "921ece44-85bd-4ed8-ad53-f2bb8b68427b",
   "metadata": {},
   "outputs": [],
   "source": [
    "ames['lot_frontage'] = ames['lot_frontage'].fillna(ames['lot_frontage'].mean())"
   ]
  },
  {
   "cell_type": "code",
   "execution_count": null,
   "id": "9f668f33-c0da-4034-949f-dd614b949bbe",
   "metadata": {},
   "outputs": [],
   "source": []
  },
  {
   "cell_type": "code",
   "execution_count": 78,
   "id": "2643a362-8e4a-4b3a-a621-debd64b4c64d",
   "metadata": {},
   "outputs": [
    {
     "data": {
      "text/plain": [
       "22"
      ]
     },
     "execution_count": 78,
     "metadata": {},
     "output_type": "execute_result"
    }
   ],
   "source": [
    "ames['mas_vnr_area'].isna().sum()"
   ]
  },
  {
   "cell_type": "code",
   "execution_count": 79,
   "id": "31ddafe4-e581-4b63-b950-2d292b25a548",
   "metadata": {},
   "outputs": [
    {
     "data": {
      "image/png": "[encoded data removed]",
      "text/plain": [
       "<Figure size 640x480 with 1 Axes>"
      ]
     },
     "metadata": {},
     "output_type": "display_data"
    }
   ],
   "source": [
    "sns.histplot(data = ames, x = 'mas_vnr_area');"
   ]
  },
  {
   "cell_type": "code",
   "execution_count": 80,
   "id": "de0fb787-4a49-4073-9cdb-dadaa4c72193",
   "metadata": {},
   "outputs": [
    {
     "data": {
      "text/plain": [
       "0       289.0\n",
       "1       132.0\n",
       "2         0.0\n",
       "3         0.0\n",
       "4         0.0\n",
       "        ...  \n",
       "2046      0.0\n",
       "2047      0.0\n",
       "2048      0.0\n",
       "2049      0.0\n",
       "2050      0.0\n",
       "Name: mas_vnr_area, Length: 2051, dtype: float64"
      ]
     },
     "execution_count": 80,
     "metadata": {},
     "output_type": "execute_result"
    }
   ],
   "source": [
    "ames['mas_vnr_area']"
   ]
  },
  {
   "cell_type": "markdown",
   "id": "65ddc347-0f87-4a4f-b434-17bd88d9124f",
   "metadata": {},
   "source": [
    "Following the same approach as before, I replace the missing values in the `mas_vnr_area` variable with its mean and zero in two separete version of the sample."
   ]
  },
  {
   "cell_type": "code",
   "execution_count": 81,
   "id": "4639c18b-cd9b-4252-810a-d5db1dc66b9e",
   "metadata": {},
   "outputs": [],
   "source": [
    "ames['mas_vnr_area'] = np.where(ames['mas_vnr_area'].isna(), 0, ames['mas_vnr_area'])"
   ]
  },
  {
   "cell_type": "code",
   "execution_count": 82,
   "id": "37b78ef3-e809-4c77-99e8-f142ac2b4fba",
   "metadata": {},
   "outputs": [],
   "source": [
    "ames['have_mas_vnr'] = np.where(ames['mas_vnr_area']==0, 0, 1)"
   ]
  },
  {
   "cell_type": "code",
   "execution_count": 83,
   "id": "a7939f5b-6b04-4585-abbd-a31e15afee8d",
   "metadata": {},
   "outputs": [],
   "source": [
    "ames['electrical'].replace(np.nan, 'Mix', inplace=True)"
   ]
  },
  {
   "cell_type": "code",
   "execution_count": 84,
   "id": "77c3213f-755a-40a3-8ac7-32a5d91e92b8",
   "metadata": {},
   "outputs": [
    {
     "data": {
      "text/plain": [
       "pool_qc          2042\n",
       "misc_feature     1986\n",
       "alley            1911\n",
       "fence            1651\n",
       "fireplace_qu     1000\n",
       "garage_qual       114\n",
       "garage_finish     114\n",
       "garage_yr_blt     114\n",
       "garage_cond       114\n",
       "garage_type       113\n",
       "dtype: int64"
      ]
     },
     "execution_count": 84,
     "metadata": {},
     "output_type": "execute_result"
    }
   ],
   "source": [
    "ames.isna().sum().sort_values(ascending=False).head(10)"
   ]
  },
  {
   "cell_type": "markdown",
   "id": "6d4e1915-5b1d-4c56-9f9f-5a83b4d2b1e4",
   "metadata": {},
   "source": [
    "In all categorical variables, if there are categories with low frequencies, I group those categories into a new category called **Other**. This approach can help simplify the analysis by reducing the number of distinct categories.\n"
   ]
  },
  {
   "cell_type": "markdown",
   "id": "2cedd270-7152-459f-909d-6c8c46d02432",
   "metadata": {},
   "source": [
    "## Cleaning the Data types"
   ]
  },
  {
   "cell_type": "code",
   "execution_count": 85,
   "id": "b0fc87ef-e777-4c6b-b3f0-99df9f8bc547",
   "metadata": {},
   "outputs": [
    {
     "data": {
      "text/plain": [
       "RL         1598\n",
       "RM          316\n",
       "FV          101\n",
       "C (all)      19\n",
       "RH           14\n",
       "A (agr)       2\n",
       "I (all)       1\n",
       "Name: ms_zoning, dtype: int64"
      ]
     },
     "execution_count": 85,
     "metadata": {},
     "output_type": "execute_result"
    }
   ],
   "source": [
    "ames['ms_zoning'].value_counts()\n",
    "       # A\tAgriculture\n",
    "       # C\tCommercial\n",
    "       # FV\tFloating Village Residential\n",
    "       # I\tIndustrial\n",
    "       # RH\tResidential High Density\n",
    "       # RL\tResidential Low Density\n",
    "       # RP\tResidential Low Density Park \n",
    "       # RM\tResidential Medium Density"
   ]
  },
  {
   "cell_type": "code",
   "execution_count": 86,
   "id": "88b61cee-0eeb-4131-bab3-c171dae8638a",
   "metadata": {},
   "outputs": [],
   "source": [
    "ames['ms_zoning'] = ames['ms_zoning'].map({'RL': 'residential_low_density', 'RM':'residential_medium_density', 'FV':'floating_village_residential', \n",
    "                                           'C (all)': 'commercial', 'RH':'residential_high_density', 'A (agr)':'agriculture', 'I (all)':'industrial'})\n",
    "ames['ms_zoning'] = pd.Categorical(ames['ms_zoning'], categories=['residential_low_density', 'residential_medium_density', \n",
    "                                                                  'floating_village_residential', 'commercial', 'residential_high_density', \n",
    "                                                                  'agriculture', 'industrial'], ordered=False) "
   ]
  },
  {
   "cell_type": "code",
   "execution_count": 87,
   "id": "5313002b-3d2c-40ad-aea8-2229bf18cde9",
   "metadata": {},
   "outputs": [
    {
     "data": {
      "text/plain": [
       "ms_zoning       category\n",
       "overall_qual       int64\n",
       "dtype: object"
      ]
     },
     "execution_count": 87,
     "metadata": {},
     "output_type": "execute_result"
    }
   ],
   "source": [
    "ames[['ms_zoning', 'overall_qual']].dtypes"
   ]
  },
  {
   "cell_type": "code",
   "execution_count": 88,
   "id": "4509b25f-cb98-4b3e-8b58-3eeea611ed11",
   "metadata": {},
   "outputs": [
    {
     "data": {
      "text/plain": [
       "residential_low_density         1598\n",
       "residential_medium_density       316\n",
       "floating_village_residential     101\n",
       "commercial                        19\n",
       "residential_high_density          14\n",
       "agriculture                        2\n",
       "industrial                         1\n",
       "Name: ms_zoning, dtype: int64"
      ]
     },
     "execution_count": 88,
     "metadata": {},
     "output_type": "execute_result"
    }
   ],
   "source": [
    "ames['ms_zoning'].value_counts()"
   ]
  },
  {
   "cell_type": "markdown",
   "id": "259b4919-faa8-44df-85ef-8cc27dadfe03",
   "metadata": {},
   "source": [
    "> I'm removing the two house with more than 4000 sq in size."
   ]
  },
  {
   "cell_type": "markdown",
   "id": "786fc79f-78b6-4782-b7e1-128c994d877a",
   "metadata": {},
   "source": [
    "## Feature enginearing and EDA"
   ]
  },
  {
   "cell_type": "code",
   "execution_count": 89,
   "id": "62b98a02-35e6-4881-b766-8629f798f25c",
   "metadata": {},
   "outputs": [],
   "source": [
    "ames['age'] = ames['yr_sold'] - ames['year_built']"
   ]
  },
  {
   "cell_type": "code",
   "execution_count": 90,
   "id": "9a7007e5-af93-4190-b13c-ff3d000e4e50",
   "metadata": {},
   "outputs": [
    {
     "data": {
      "image/png": "[encoded data removed]",
      "text/plain": [
       "<Figure size 640x480 with 1 Axes>"
      ]
     },
     "metadata": {},
     "output_type": "display_data"
    }
   ],
   "source": [
    "sns.scatterplot(y=ames['year_remod'], x=ames['year_built'], alpha=0.1);"
   ]
  },
  {
   "cell_type": "code",
   "execution_count": 91,
   "id": "5da3cb18-b1cd-4c3e-bd31-a085b6e1f712",
   "metadata": {},
   "outputs": [],
   "source": [
    "ames['total_bath'] = ames['full_bath'] + 0.5 * ames['half_bath']"
   ]
  },
  {
   "cell_type": "markdown",
   "id": "3c95eae9-1c58-43c5-9f67-47ac08dd1615",
   "metadata": {},
   "source": []
  },
  {
   "cell_type": "code",
   "execution_count": 92,
   "id": "f75d503f-6f36-4c15-9e8a-b7bfb7cd6b1a",
   "metadata": {},
   "outputs": [
    {
     "data": {
      "text/html": [
       "<div>\n",
       "<style scoped>\n",
       "    .dataframe tbody tr th:only-of-type {\n",
       "        vertical-align: middle;\n",
       "    }\n",
       "\n",
       "    .dataframe tbody tr th {\n",
       "        vertical-align: top;\n",
       "    }\n",
       "\n",
       "    .dataframe thead th {\n",
       "        text-align: right;\n",
       "    }\n",
       "</style>\n",
       "<table border=\"1\" class=\"dataframe\">\n",
       "  <thead>\n",
       "    <tr style=\"text-align: right;\">\n",
       "      <th></th>\n",
       "      <th>count</th>\n",
       "      <th>mean</th>\n",
       "      <th>std</th>\n",
       "    </tr>\n",
       "    <tr>\n",
       "      <th>ms_subclass</th>\n",
       "      <th></th>\n",
       "      <th></th>\n",
       "      <th></th>\n",
       "    </tr>\n",
       "  </thead>\n",
       "  <tbody>\n",
       "    <tr>\n",
       "      <th>150</th>\n",
       "      <td>1</td>\n",
       "      <td>148400.000000</td>\n",
       "      <td>NaN</td>\n",
       "    </tr>\n",
       "    <tr>\n",
       "      <th>40</th>\n",
       "      <td>4</td>\n",
       "      <td>119125.000000</td>\n",
       "      <td>31967.105489</td>\n",
       "    </tr>\n",
       "    <tr>\n",
       "      <th>45</th>\n",
       "      <td>11</td>\n",
       "      <td>116372.727273</td>\n",
       "      <td>15503.618346</td>\n",
       "    </tr>\n",
       "    <tr>\n",
       "      <th>180</th>\n",
       "      <td>11</td>\n",
       "      <td>109672.727273</td>\n",
       "      <td>27875.763341</td>\n",
       "    </tr>\n",
       "    <tr>\n",
       "      <th>75</th>\n",
       "      <td>16</td>\n",
       "      <td>204875.000000</td>\n",
       "      <td>114016.446182</td>\n",
       "    </tr>\n",
       "    <tr>\n",
       "      <th>85</th>\n",
       "      <td>28</td>\n",
       "      <td>154398.214286</td>\n",
       "      <td>18568.883182</td>\n",
       "    </tr>\n",
       "    <tr>\n",
       "      <th>190</th>\n",
       "      <td>46</td>\n",
       "      <td>124310.326087</td>\n",
       "      <td>30123.333783</td>\n",
       "    </tr>\n",
       "    <tr>\n",
       "      <th>90</th>\n",
       "      <td>75</td>\n",
       "      <td>139296.333333</td>\n",
       "      <td>40824.044796</td>\n",
       "    </tr>\n",
       "    <tr>\n",
       "      <th>80</th>\n",
       "      <td>86</td>\n",
       "      <td>169569.825581</td>\n",
       "      <td>35942.161024</td>\n",
       "    </tr>\n",
       "    <tr>\n",
       "      <th>160</th>\n",
       "      <td>88</td>\n",
       "      <td>138452.215909</td>\n",
       "      <td>41950.228523</td>\n",
       "    </tr>\n",
       "    <tr>\n",
       "      <th>70</th>\n",
       "      <td>90</td>\n",
       "      <td>153354.455556</td>\n",
       "      <td>44642.191773</td>\n",
       "    </tr>\n",
       "    <tr>\n",
       "      <th>30</th>\n",
       "      <td>101</td>\n",
       "      <td>94936.346535</td>\n",
       "      <td>29223.589715</td>\n",
       "    </tr>\n",
       "    <tr>\n",
       "      <th>120</th>\n",
       "      <td>132</td>\n",
       "      <td>211813.613636</td>\n",
       "      <td>61171.742989</td>\n",
       "    </tr>\n",
       "    <tr>\n",
       "      <th>50</th>\n",
       "      <td>198</td>\n",
       "      <td>137270.000000</td>\n",
       "      <td>46383.634825</td>\n",
       "    </tr>\n",
       "    <tr>\n",
       "      <th>60</th>\n",
       "      <td>394</td>\n",
       "      <td>239225.769036</td>\n",
       "      <td>77910.941364</td>\n",
       "    </tr>\n",
       "    <tr>\n",
       "      <th>20</th>\n",
       "      <td>770</td>\n",
       "      <td>189305.488312</td>\n",
       "      <td>83531.300792</td>\n",
       "    </tr>\n",
       "  </tbody>\n",
       "</table>\n",
       "</div>"
      ],
      "text/plain": [
       "             count           mean            std\n",
       "ms_subclass                                     \n",
       "150              1  148400.000000            NaN\n",
       "40               4  119125.000000   31967.105489\n",
       "45              11  116372.727273   15503.618346\n",
       "180             11  109672.727273   27875.763341\n",
       "75              16  204875.000000  114016.446182\n",
       "85              28  154398.214286   18568.883182\n",
       "190             46  124310.326087   30123.333783\n",
       "90              75  139296.333333   40824.044796\n",
       "80              86  169569.825581   35942.161024\n",
       "160             88  138452.215909   41950.228523\n",
       "70              90  153354.455556   44642.191773\n",
       "30             101   94936.346535   29223.589715\n",
       "120            132  211813.613636   61171.742989\n",
       "50             198  137270.000000   46383.634825\n",
       "60             394  239225.769036   77910.941364\n",
       "20             770  189305.488312   83531.300792"
      ]
     },
     "execution_count": 92,
     "metadata": {},
     "output_type": "execute_result"
    }
   ],
   "source": [
    "ames.groupby('ms_subclass')['SalePrice'].agg(['count', 'mean', 'std']).sort_values('count')"
   ]
  },
  {
   "cell_type": "code",
   "execution_count": 93,
   "id": "652c2806-353a-4a0c-adee-5a007b91ba19",
   "metadata": {
    "tags": []
   },
   "outputs": [
    {
     "data": {
      "text/html": [
       "<div>\n",
       "<style scoped>\n",
       "    .dataframe tbody tr th:only-of-type {\n",
       "        vertical-align: middle;\n",
       "    }\n",
       "\n",
       "    .dataframe tbody tr th {\n",
       "        vertical-align: top;\n",
       "    }\n",
       "\n",
       "    .dataframe thead th {\n",
       "        text-align: right;\n",
       "    }\n",
       "</style>\n",
       "<table border=\"1\" class=\"dataframe\">\n",
       "  <thead>\n",
       "    <tr style=\"text-align: right;\">\n",
       "      <th></th>\n",
       "      <th>count</th>\n",
       "      <th>mean</th>\n",
       "      <th>std</th>\n",
       "    </tr>\n",
       "    <tr>\n",
       "      <th>house_style</th>\n",
       "      <th></th>\n",
       "      <th></th>\n",
       "      <th></th>\n",
       "    </tr>\n",
       "  </thead>\n",
       "  <tbody>\n",
       "    <tr>\n",
       "      <th>2.5Fin</th>\n",
       "      <td>6</td>\n",
       "      <td>243666.666667</td>\n",
       "      <td>128464.262216</td>\n",
       "    </tr>\n",
       "    <tr>\n",
       "      <th>1.5Unf</th>\n",
       "      <td>12</td>\n",
       "      <td>112466.666667</td>\n",
       "      <td>21111.364166</td>\n",
       "    </tr>\n",
       "    <tr>\n",
       "      <th>2.5Unf</th>\n",
       "      <td>14</td>\n",
       "      <td>191785.714286</td>\n",
       "      <td>87041.483100</td>\n",
       "    </tr>\n",
       "    <tr>\n",
       "      <th>SFoyer</th>\n",
       "      <td>50</td>\n",
       "      <td>149343.920000</td>\n",
       "      <td>31859.449693</td>\n",
       "    </tr>\n",
       "    <tr>\n",
       "      <th>SLvl</th>\n",
       "      <td>94</td>\n",
       "      <td>166248.989362</td>\n",
       "      <td>37262.422556</td>\n",
       "    </tr>\n",
       "    <tr>\n",
       "      <th>1.5Fin</th>\n",
       "      <td>218</td>\n",
       "      <td>136480.091743</td>\n",
       "      <td>44910.975892</td>\n",
       "    </tr>\n",
       "    <tr>\n",
       "      <th>2Story</th>\n",
       "      <td>598</td>\n",
       "      <td>206408.963211</td>\n",
       "      <td>82240.431218</td>\n",
       "    </tr>\n",
       "    <tr>\n",
       "      <th>1Story</th>\n",
       "      <td>1059</td>\n",
       "      <td>179809.194523</td>\n",
       "      <td>81725.146760</td>\n",
       "    </tr>\n",
       "  </tbody>\n",
       "</table>\n",
       "</div>"
      ],
      "text/plain": [
       "             count           mean            std\n",
       "house_style                                     \n",
       "2.5Fin           6  243666.666667  128464.262216\n",
       "1.5Unf          12  112466.666667   21111.364166\n",
       "2.5Unf          14  191785.714286   87041.483100\n",
       "SFoyer          50  149343.920000   31859.449693\n",
       "SLvl            94  166248.989362   37262.422556\n",
       "1.5Fin         218  136480.091743   44910.975892\n",
       "2Story         598  206408.963211   82240.431218\n",
       "1Story        1059  179809.194523   81725.146760"
      ]
     },
     "execution_count": 93,
     "metadata": {},
     "output_type": "execute_result"
    }
   ],
   "source": [
    "ames.groupby('house_style')['SalePrice'].agg(['count', 'mean', 'std']).sort_values('count')"
   ]
  },
  {
   "cell_type": "code",
   "execution_count": 94,
   "id": "d4c35c1a-42cc-46de-a44f-bec5d3e937b8",
   "metadata": {},
   "outputs": [
    {
     "data": {
      "text/html": [
       "<div>\n",
       "<style scoped>\n",
       "    .dataframe tbody tr th:only-of-type {\n",
       "        vertical-align: middle;\n",
       "    }\n",
       "\n",
       "    .dataframe tbody tr th {\n",
       "        vertical-align: top;\n",
       "    }\n",
       "\n",
       "    .dataframe thead th {\n",
       "        text-align: right;\n",
       "    }\n",
       "</style>\n",
       "<table border=\"1\" class=\"dataframe\">\n",
       "  <thead>\n",
       "    <tr style=\"text-align: right;\">\n",
       "      <th></th>\n",
       "      <th>count</th>\n",
       "      <th>mean</th>\n",
       "      <th>std</th>\n",
       "    </tr>\n",
       "    <tr>\n",
       "      <th>ms_zoning</th>\n",
       "      <th></th>\n",
       "      <th></th>\n",
       "      <th></th>\n",
       "    </tr>\n",
       "  </thead>\n",
       "  <tbody>\n",
       "    <tr>\n",
       "      <th>industrial</th>\n",
       "      <td>1</td>\n",
       "      <td>57625.000000</td>\n",
       "      <td>NaN</td>\n",
       "    </tr>\n",
       "    <tr>\n",
       "      <th>agriculture</th>\n",
       "      <td>2</td>\n",
       "      <td>47300.000000</td>\n",
       "      <td>48366.103833</td>\n",
       "    </tr>\n",
       "    <tr>\n",
       "      <th>residential_high_density</th>\n",
       "      <td>14</td>\n",
       "      <td>148859.571429</td>\n",
       "      <td>35970.877401</td>\n",
       "    </tr>\n",
       "    <tr>\n",
       "      <th>commercial</th>\n",
       "      <td>19</td>\n",
       "      <td>78010.894737</td>\n",
       "      <td>32781.478897</td>\n",
       "    </tr>\n",
       "    <tr>\n",
       "      <th>floating_village_residential</th>\n",
       "      <td>101</td>\n",
       "      <td>218618.316832</td>\n",
       "      <td>53063.423791</td>\n",
       "    </tr>\n",
       "    <tr>\n",
       "      <th>residential_medium_density</th>\n",
       "      <td>316</td>\n",
       "      <td>129119.142405</td>\n",
       "      <td>50776.911622</td>\n",
       "    </tr>\n",
       "    <tr>\n",
       "      <th>residential_low_density</th>\n",
       "      <td>1598</td>\n",
       "      <td>191235.164581</td>\n",
       "      <td>80380.790716</td>\n",
       "    </tr>\n",
       "  </tbody>\n",
       "</table>\n",
       "</div>"
      ],
      "text/plain": [
       "                              count           mean           std\n",
       "ms_zoning                                                       \n",
       "industrial                        1   57625.000000           NaN\n",
       "agriculture                       2   47300.000000  48366.103833\n",
       "residential_high_density         14  148859.571429  35970.877401\n",
       "commercial                       19   78010.894737  32781.478897\n",
       "floating_village_residential    101  218618.316832  53063.423791\n",
       "residential_medium_density      316  129119.142405  50776.911622\n",
       "residential_low_density        1598  191235.164581  80380.790716"
      ]
     },
     "execution_count": 94,
     "metadata": {},
     "output_type": "execute_result"
    }
   ],
   "source": [
    "ames.groupby('ms_zoning')['SalePrice'].agg(['count', 'mean', 'std']).sort_values('count')"
   ]
  },
  {
   "cell_type": "code",
   "execution_count": 95,
   "id": "82b81ad2-d4e7-4a52-a3d9-e1ef8fa1e9c7",
   "metadata": {
    "tags": []
   },
   "outputs": [
    {
     "data": {
      "image/png": "[encoded data removed]",
      "text/plain": [
       "<Figure size 640x480 with 1 Axes>"
      ]
     },
     "metadata": {},
     "output_type": "display_data"
    }
   ],
   "source": [
    "sns.scatterplot(x=ames['lot_frontage'], y=ames['SalePrice']);"
   ]
  },
  {
   "cell_type": "code",
   "execution_count": 96,
   "id": "a2c12b54-363c-4e95-b7a9-e29be8e0d5b8",
   "metadata": {},
   "outputs": [
    {
     "data": {
      "text/html": [
       "<div>\n",
       "<style scoped>\n",
       "    .dataframe tbody tr th:only-of-type {\n",
       "        vertical-align: middle;\n",
       "    }\n",
       "\n",
       "    .dataframe tbody tr th {\n",
       "        vertical-align: top;\n",
       "    }\n",
       "\n",
       "    .dataframe thead th {\n",
       "        text-align: right;\n",
       "    }\n",
       "</style>\n",
       "<table border=\"1\" class=\"dataframe\">\n",
       "  <thead>\n",
       "    <tr style=\"text-align: right;\">\n",
       "      <th></th>\n",
       "      <th>count</th>\n",
       "      <th>mean</th>\n",
       "    </tr>\n",
       "    <tr>\n",
       "      <th>land_contour</th>\n",
       "      <th></th>\n",
       "      <th></th>\n",
       "    </tr>\n",
       "  </thead>\n",
       "  <tbody>\n",
       "    <tr>\n",
       "      <th>Bnk</th>\n",
       "      <td>80</td>\n",
       "      <td>142868.775000</td>\n",
       "    </tr>\n",
       "    <tr>\n",
       "      <th>Lvl</th>\n",
       "      <td>1843</td>\n",
       "      <td>178998.564840</td>\n",
       "    </tr>\n",
       "    <tr>\n",
       "      <th>Low</th>\n",
       "      <td>43</td>\n",
       "      <td>199313.116279</td>\n",
       "    </tr>\n",
       "    <tr>\n",
       "      <th>HLS</th>\n",
       "      <td>85</td>\n",
       "      <td>262353.376471</td>\n",
       "    </tr>\n",
       "  </tbody>\n",
       "</table>\n",
       "</div>"
      ],
      "text/plain": [
       "              count           mean\n",
       "land_contour                      \n",
       "Bnk              80  142868.775000\n",
       "Lvl            1843  178998.564840\n",
       "Low              43  199313.116279\n",
       "HLS              85  262353.376471"
      ]
     },
     "execution_count": 96,
     "metadata": {},
     "output_type": "execute_result"
    }
   ],
   "source": [
    "ames.groupby('land_contour')['SalePrice'].agg(['count', 'mean']).sort_values('mean')"
   ]
  },
  {
   "cell_type": "code",
   "execution_count": 97,
   "id": "f6ca8f3e-14a1-4997-bd60-dead116c9a14",
   "metadata": {},
   "outputs": [
    {
     "data": {
      "text/html": [
       "<div>\n",
       "<style scoped>\n",
       "    .dataframe tbody tr th:only-of-type {\n",
       "        vertical-align: middle;\n",
       "    }\n",
       "\n",
       "    .dataframe tbody tr th {\n",
       "        vertical-align: top;\n",
       "    }\n",
       "\n",
       "    .dataframe thead th {\n",
       "        text-align: right;\n",
       "    }\n",
       "</style>\n",
       "<table border=\"1\" class=\"dataframe\">\n",
       "  <thead>\n",
       "    <tr style=\"text-align: right;\">\n",
       "      <th></th>\n",
       "      <th>count</th>\n",
       "      <th>mean</th>\n",
       "    </tr>\n",
       "    <tr>\n",
       "      <th>lot_config</th>\n",
       "      <th></th>\n",
       "      <th></th>\n",
       "    </tr>\n",
       "  </thead>\n",
       "  <tbody>\n",
       "    <tr>\n",
       "      <th>FR2</th>\n",
       "      <td>60</td>\n",
       "      <td>174703.600000</td>\n",
       "    </tr>\n",
       "    <tr>\n",
       "      <th>Inside</th>\n",
       "      <td>1503</td>\n",
       "      <td>177537.014637</td>\n",
       "    </tr>\n",
       "    <tr>\n",
       "      <th>Corner</th>\n",
       "      <td>348</td>\n",
       "      <td>180629.591954</td>\n",
       "    </tr>\n",
       "    <tr>\n",
       "      <th>FR3</th>\n",
       "      <td>9</td>\n",
       "      <td>198600.000000</td>\n",
       "    </tr>\n",
       "    <tr>\n",
       "      <th>CulDSac</th>\n",
       "      <td>131</td>\n",
       "      <td>230744.358779</td>\n",
       "    </tr>\n",
       "  </tbody>\n",
       "</table>\n",
       "</div>"
      ],
      "text/plain": [
       "            count           mean\n",
       "lot_config                      \n",
       "FR2            60  174703.600000\n",
       "Inside       1503  177537.014637\n",
       "Corner        348  180629.591954\n",
       "FR3             9  198600.000000\n",
       "CulDSac       131  230744.358779"
      ]
     },
     "execution_count": 97,
     "metadata": {},
     "output_type": "execute_result"
    }
   ],
   "source": [
    "ames.groupby('lot_config')['SalePrice'].agg(['count', 'mean']).sort_values('mean')"
   ]
  },
  {
   "cell_type": "code",
   "execution_count": 98,
   "id": "35817808-f044-4227-a581-87ca3f1432e3",
   "metadata": {},
   "outputs": [
    {
     "data": {
      "text/html": [
       "<div>\n",
       "<style scoped>\n",
       "    .dataframe tbody tr th:only-of-type {\n",
       "        vertical-align: middle;\n",
       "    }\n",
       "\n",
       "    .dataframe tbody tr th {\n",
       "        vertical-align: top;\n",
       "    }\n",
       "\n",
       "    .dataframe thead th {\n",
       "        text-align: right;\n",
       "    }\n",
       "</style>\n",
       "<table border=\"1\" class=\"dataframe\">\n",
       "  <thead>\n",
       "    <tr style=\"text-align: right;\">\n",
       "      <th></th>\n",
       "      <th>count</th>\n",
       "      <th>mean</th>\n",
       "    </tr>\n",
       "    <tr>\n",
       "      <th>land_slope</th>\n",
       "      <th></th>\n",
       "      <th></th>\n",
       "    </tr>\n",
       "  </thead>\n",
       "  <tbody>\n",
       "    <tr>\n",
       "      <th>Gtl</th>\n",
       "      <td>1953</td>\n",
       "      <td>180358.476703</td>\n",
       "    </tr>\n",
       "    <tr>\n",
       "      <th>Sev</th>\n",
       "      <td>10</td>\n",
       "      <td>194598.000000</td>\n",
       "    </tr>\n",
       "    <tr>\n",
       "      <th>Mod</th>\n",
       "      <td>88</td>\n",
       "      <td>204639.465909</td>\n",
       "    </tr>\n",
       "  </tbody>\n",
       "</table>\n",
       "</div>"
      ],
      "text/plain": [
       "            count           mean\n",
       "land_slope                      \n",
       "Gtl          1953  180358.476703\n",
       "Sev            10  194598.000000\n",
       "Mod            88  204639.465909"
      ]
     },
     "execution_count": 98,
     "metadata": {},
     "output_type": "execute_result"
    }
   ],
   "source": [
    "ames.groupby('land_slope')['SalePrice'].agg(['count', 'mean']).sort_values('mean')"
   ]
  },
  {
   "cell_type": "code",
   "execution_count": 99,
   "id": "1ffa785e-998d-4895-8cdf-012ac403f3f9",
   "metadata": {},
   "outputs": [],
   "source": [
    "ames['alley'].replace(np.nan, 'no_alley_access', inplace=True)"
   ]
  },
  {
   "cell_type": "code",
   "execution_count": 100,
   "id": "c4422692-9013-4caf-9723-53e2889e0e8e",
   "metadata": {},
   "outputs": [
    {
     "data": {
      "text/html": [
       "<div>\n",
       "<style scoped>\n",
       "    .dataframe tbody tr th:only-of-type {\n",
       "        vertical-align: middle;\n",
       "    }\n",
       "\n",
       "    .dataframe tbody tr th {\n",
       "        vertical-align: top;\n",
       "    }\n",
       "\n",
       "    .dataframe thead th {\n",
       "        text-align: right;\n",
       "    }\n",
       "</style>\n",
       "<table border=\"1\" class=\"dataframe\">\n",
       "  <thead>\n",
       "    <tr style=\"text-align: right;\">\n",
       "      <th></th>\n",
       "      <th>count</th>\n",
       "      <th>mean</th>\n",
       "    </tr>\n",
       "    <tr>\n",
       "      <th>alley</th>\n",
       "      <th></th>\n",
       "      <th></th>\n",
       "    </tr>\n",
       "  </thead>\n",
       "  <tbody>\n",
       "    <tr>\n",
       "      <th>gravel</th>\n",
       "      <td>85</td>\n",
       "      <td>120835.635294</td>\n",
       "    </tr>\n",
       "    <tr>\n",
       "      <th>paved</th>\n",
       "      <td>55</td>\n",
       "      <td>174534.709091</td>\n",
       "    </tr>\n",
       "    <tr>\n",
       "      <th>no_alley_access</th>\n",
       "      <td>1911</td>\n",
       "      <td>184366.258503</td>\n",
       "    </tr>\n",
       "  </tbody>\n",
       "</table>\n",
       "</div>"
      ],
      "text/plain": [
       "                 count           mean\n",
       "alley                                \n",
       "gravel              85  120835.635294\n",
       "paved               55  174534.709091\n",
       "no_alley_access   1911  184366.258503"
      ]
     },
     "execution_count": 100,
     "metadata": {},
     "output_type": "execute_result"
    }
   ],
   "source": [
    "ames.groupby('alley')['SalePrice'].agg(['count', 'mean']).sort_values('mean')"
   ]
  },
  {
   "cell_type": "code",
   "execution_count": 101,
   "id": "14a4d8c2-bf3c-440f-a111-7a78f4481ceb",
   "metadata": {},
   "outputs": [
    {
     "data": {
      "text/html": [
       "<div>\n",
       "<style scoped>\n",
       "    .dataframe tbody tr th:only-of-type {\n",
       "        vertical-align: middle;\n",
       "    }\n",
       "\n",
       "    .dataframe tbody tr th {\n",
       "        vertical-align: top;\n",
       "    }\n",
       "\n",
       "    .dataframe thead th {\n",
       "        text-align: right;\n",
       "    }\n",
       "</style>\n",
       "<table border=\"1\" class=\"dataframe\">\n",
       "  <thead>\n",
       "    <tr style=\"text-align: right;\">\n",
       "      <th></th>\n",
       "      <th>count</th>\n",
       "      <th>mean</th>\n",
       "    </tr>\n",
       "    <tr>\n",
       "      <th>lot_shape</th>\n",
       "      <th></th>\n",
       "      <th></th>\n",
       "    </tr>\n",
       "  </thead>\n",
       "  <tbody>\n",
       "    <tr>\n",
       "      <th>Reg</th>\n",
       "      <td>1295</td>\n",
       "      <td>162925.812355</td>\n",
       "    </tr>\n",
       "    <tr>\n",
       "      <th>IR3</th>\n",
       "      <td>9</td>\n",
       "      <td>193182.222222</td>\n",
       "    </tr>\n",
       "    <tr>\n",
       "      <th>IR1</th>\n",
       "      <td>692</td>\n",
       "      <td>211848.670520</td>\n",
       "    </tr>\n",
       "    <tr>\n",
       "      <th>IR2</th>\n",
       "      <td>55</td>\n",
       "      <td>233954.745455</td>\n",
       "    </tr>\n",
       "  </tbody>\n",
       "</table>\n",
       "</div>"
      ],
      "text/plain": [
       "           count           mean\n",
       "lot_shape                      \n",
       "Reg         1295  162925.812355\n",
       "IR3            9  193182.222222\n",
       "IR1          692  211848.670520\n",
       "IR2           55  233954.745455"
      ]
     },
     "execution_count": 101,
     "metadata": {},
     "output_type": "execute_result"
    }
   ],
   "source": [
    "ames.groupby('lot_shape')['SalePrice'].agg(['count', 'mean']).sort_values('mean')"
   ]
  },
  {
   "cell_type": "code",
   "execution_count": 102,
   "id": "1b3513b9-1b57-4378-be65-7d100e813cbd",
   "metadata": {},
   "outputs": [
    {
     "data": {
      "text/html": [
       "<div>\n",
       "<style scoped>\n",
       "    .dataframe tbody tr th:only-of-type {\n",
       "        vertical-align: middle;\n",
       "    }\n",
       "\n",
       "    .dataframe tbody tr th {\n",
       "        vertical-align: top;\n",
       "    }\n",
       "\n",
       "    .dataframe thead th {\n",
       "        text-align: right;\n",
       "    }\n",
       "</style>\n",
       "<table border=\"1\" class=\"dataframe\">\n",
       "  <thead>\n",
       "    <tr style=\"text-align: right;\">\n",
       "      <th></th>\n",
       "      <th>count</th>\n",
       "      <th>mean</th>\n",
       "    </tr>\n",
       "    <tr>\n",
       "      <th>neighborhood</th>\n",
       "      <th></th>\n",
       "      <th></th>\n",
       "    </tr>\n",
       "  </thead>\n",
       "  <tbody>\n",
       "    <tr>\n",
       "      <th>MeadowV</th>\n",
       "      <td>24</td>\n",
       "      <td>100231.250000</td>\n",
       "    </tr>\n",
       "    <tr>\n",
       "      <th>IDOTRR</th>\n",
       "      <td>69</td>\n",
       "      <td>101103.188406</td>\n",
       "    </tr>\n",
       "    <tr>\n",
       "      <th>BrDale</th>\n",
       "      <td>19</td>\n",
       "      <td>103371.052632</td>\n",
       "    </tr>\n",
       "    <tr>\n",
       "      <th>OldTown</th>\n",
       "      <td>163</td>\n",
       "      <td>125276.300613</td>\n",
       "    </tr>\n",
       "    <tr>\n",
       "      <th>BrkSide</th>\n",
       "      <td>76</td>\n",
       "      <td>127022.697368</td>\n",
       "    </tr>\n",
       "    <tr>\n",
       "      <th>Edwards</th>\n",
       "      <td>143</td>\n",
       "      <td>130493.468531</td>\n",
       "    </tr>\n",
       "    <tr>\n",
       "      <th>SWISU</th>\n",
       "      <td>32</td>\n",
       "      <td>134758.875000</td>\n",
       "    </tr>\n",
       "    <tr>\n",
       "      <th>Landmrk</th>\n",
       "      <td>1</td>\n",
       "      <td>137000.000000</td>\n",
       "    </tr>\n",
       "    <tr>\n",
       "      <th>Sawyer</th>\n",
       "      <td>111</td>\n",
       "      <td>137181.909910</td>\n",
       "    </tr>\n",
       "    <tr>\n",
       "      <th>NPkVill</th>\n",
       "      <td>17</td>\n",
       "      <td>140476.470588</td>\n",
       "    </tr>\n",
       "    <tr>\n",
       "      <th>Blueste</th>\n",
       "      <td>6</td>\n",
       "      <td>144566.666667</td>\n",
       "    </tr>\n",
       "    <tr>\n",
       "      <th>NAmes</th>\n",
       "      <td>310</td>\n",
       "      <td>145905.816129</td>\n",
       "    </tr>\n",
       "    <tr>\n",
       "      <th>Mitchel</th>\n",
       "      <td>82</td>\n",
       "      <td>167656.707317</td>\n",
       "    </tr>\n",
       "    <tr>\n",
       "      <th>SawyerW</th>\n",
       "      <td>87</td>\n",
       "      <td>187760.160920</td>\n",
       "    </tr>\n",
       "    <tr>\n",
       "      <th>Greens</th>\n",
       "      <td>3</td>\n",
       "      <td>188666.666667</td>\n",
       "    </tr>\n",
       "    <tr>\n",
       "      <th>Gilbert</th>\n",
       "      <td>116</td>\n",
       "      <td>189228.387931</td>\n",
       "    </tr>\n",
       "    <tr>\n",
       "      <th>NWAmes</th>\n",
       "      <td>87</td>\n",
       "      <td>194619.022989</td>\n",
       "    </tr>\n",
       "    <tr>\n",
       "      <th>Blmngtn</th>\n",
       "      <td>22</td>\n",
       "      <td>200417.681818</td>\n",
       "    </tr>\n",
       "    <tr>\n",
       "      <th>CollgCr</th>\n",
       "      <td>180</td>\n",
       "      <td>202497.216667</td>\n",
       "    </tr>\n",
       "    <tr>\n",
       "      <th>Crawfor</th>\n",
       "      <td>71</td>\n",
       "      <td>205901.211268</td>\n",
       "    </tr>\n",
       "    <tr>\n",
       "      <th>ClearCr</th>\n",
       "      <td>27</td>\n",
       "      <td>217490.074074</td>\n",
       "    </tr>\n",
       "    <tr>\n",
       "      <th>Somerst</th>\n",
       "      <td>130</td>\n",
       "      <td>227183.900000</td>\n",
       "    </tr>\n",
       "    <tr>\n",
       "      <th>Timber</th>\n",
       "      <td>48</td>\n",
       "      <td>241051.354167</td>\n",
       "    </tr>\n",
       "    <tr>\n",
       "      <th>Veenker</th>\n",
       "      <td>17</td>\n",
       "      <td>253570.588235</td>\n",
       "    </tr>\n",
       "    <tr>\n",
       "      <th>GrnHill</th>\n",
       "      <td>2</td>\n",
       "      <td>280000.000000</td>\n",
       "    </tr>\n",
       "    <tr>\n",
       "      <th>NoRidge</th>\n",
       "      <td>48</td>\n",
       "      <td>316294.125000</td>\n",
       "    </tr>\n",
       "    <tr>\n",
       "      <th>NridgHt</th>\n",
       "      <td>122</td>\n",
       "      <td>322831.352459</td>\n",
       "    </tr>\n",
       "    <tr>\n",
       "      <th>StoneBr</th>\n",
       "      <td>38</td>\n",
       "      <td>329675.736842</td>\n",
       "    </tr>\n",
       "  </tbody>\n",
       "</table>\n",
       "</div>"
      ],
      "text/plain": [
       "              count           mean\n",
       "neighborhood                      \n",
       "MeadowV          24  100231.250000\n",
       "IDOTRR           69  101103.188406\n",
       "BrDale           19  103371.052632\n",
       "OldTown         163  125276.300613\n",
       "BrkSide          76  127022.697368\n",
       "Edwards         143  130493.468531\n",
       "SWISU            32  134758.875000\n",
       "Landmrk           1  137000.000000\n",
       "Sawyer          111  137181.909910\n",
       "NPkVill          17  140476.470588\n",
       "Blueste           6  144566.666667\n",
       "NAmes           310  145905.816129\n",
       "Mitchel          82  167656.707317\n",
       "SawyerW          87  187760.160920\n",
       "Greens            3  188666.666667\n",
       "Gilbert         116  189228.387931\n",
       "NWAmes           87  194619.022989\n",
       "Blmngtn          22  200417.681818\n",
       "CollgCr         180  202497.216667\n",
       "Crawfor          71  205901.211268\n",
       "ClearCr          27  217490.074074\n",
       "Somerst         130  227183.900000\n",
       "Timber           48  241051.354167\n",
       "Veenker          17  253570.588235\n",
       "GrnHill           2  280000.000000\n",
       "NoRidge          48  316294.125000\n",
       "NridgHt         122  322831.352459\n",
       "StoneBr          38  329675.736842"
      ]
     },
     "execution_count": 102,
     "metadata": {},
     "output_type": "execute_result"
    }
   ],
   "source": [
    "ames.groupby('neighborhood')['SalePrice'].agg(['count', 'mean']).sort_values('mean')"
   ]
  },
  {
   "cell_type": "code",
   "execution_count": 103,
   "id": "7f96f036-6d90-4d9a-b330-219e35d2fe2c",
   "metadata": {},
   "outputs": [
    {
     "data": {
      "text/html": [
       "<div>\n",
       "<style scoped>\n",
       "    .dataframe tbody tr th:only-of-type {\n",
       "        vertical-align: middle;\n",
       "    }\n",
       "\n",
       "    .dataframe tbody tr th {\n",
       "        vertical-align: top;\n",
       "    }\n",
       "\n",
       "    .dataframe thead th {\n",
       "        text-align: right;\n",
       "    }\n",
       "</style>\n",
       "<table border=\"1\" class=\"dataframe\">\n",
       "  <thead>\n",
       "    <tr style=\"text-align: right;\">\n",
       "      <th></th>\n",
       "      <th>count</th>\n",
       "      <th>mean</th>\n",
       "    </tr>\n",
       "    <tr>\n",
       "      <th>condition_1</th>\n",
       "      <th></th>\n",
       "      <th></th>\n",
       "    </tr>\n",
       "  </thead>\n",
       "  <tbody>\n",
       "    <tr>\n",
       "      <th>Artery</th>\n",
       "      <td>70</td>\n",
       "      <td>128765.000000</td>\n",
       "    </tr>\n",
       "    <tr>\n",
       "      <th>RRNe</th>\n",
       "      <td>3</td>\n",
       "      <td>129616.666667</td>\n",
       "    </tr>\n",
       "    <tr>\n",
       "      <th>RRAe</th>\n",
       "      <td>21</td>\n",
       "      <td>139685.714286</td>\n",
       "    </tr>\n",
       "    <tr>\n",
       "      <th>Feedr</th>\n",
       "      <td>109</td>\n",
       "      <td>143223.605505</td>\n",
       "    </tr>\n",
       "    <tr>\n",
       "      <th>RRAn</th>\n",
       "      <td>36</td>\n",
       "      <td>172604.777778</td>\n",
       "    </tr>\n",
       "    <tr>\n",
       "      <th>Norm</th>\n",
       "      <td>1767</td>\n",
       "      <td>185007.310130</td>\n",
       "    </tr>\n",
       "    <tr>\n",
       "      <th>RRNn</th>\n",
       "      <td>6</td>\n",
       "      <td>198208.333333</td>\n",
       "    </tr>\n",
       "    <tr>\n",
       "      <th>PosA</th>\n",
       "      <td>12</td>\n",
       "      <td>254733.333333</td>\n",
       "    </tr>\n",
       "    <tr>\n",
       "      <th>PosN</th>\n",
       "      <td>27</td>\n",
       "      <td>254794.296296</td>\n",
       "    </tr>\n",
       "  </tbody>\n",
       "</table>\n",
       "</div>"
      ],
      "text/plain": [
       "             count           mean\n",
       "condition_1                      \n",
       "Artery          70  128765.000000\n",
       "RRNe             3  129616.666667\n",
       "RRAe            21  139685.714286\n",
       "Feedr          109  143223.605505\n",
       "RRAn            36  172604.777778\n",
       "Norm          1767  185007.310130\n",
       "RRNn             6  198208.333333\n",
       "PosA            12  254733.333333\n",
       "PosN            27  254794.296296"
      ]
     },
     "execution_count": 103,
     "metadata": {},
     "output_type": "execute_result"
    }
   ],
   "source": [
    "ames.groupby('condition_1')['SalePrice'].agg(['count', 'mean']).sort_values('mean')"
   ]
  },
  {
   "cell_type": "code",
   "execution_count": 104,
   "id": "5d4538ce-9d20-4470-b096-ecd496f48cd2",
   "metadata": {},
   "outputs": [
    {
     "data": {
      "text/html": [
       "<div>\n",
       "<style scoped>\n",
       "    .dataframe tbody tr th:only-of-type {\n",
       "        vertical-align: middle;\n",
       "    }\n",
       "\n",
       "    .dataframe tbody tr th {\n",
       "        vertical-align: top;\n",
       "    }\n",
       "\n",
       "    .dataframe thead th {\n",
       "        text-align: right;\n",
       "    }\n",
       "</style>\n",
       "<table border=\"1\" class=\"dataframe\">\n",
       "  <thead>\n",
       "    <tr style=\"text-align: right;\">\n",
       "      <th></th>\n",
       "      <th>count</th>\n",
       "      <th>mean</th>\n",
       "    </tr>\n",
       "    <tr>\n",
       "      <th>condition_2</th>\n",
       "      <th></th>\n",
       "      <th></th>\n",
       "    </tr>\n",
       "  </thead>\n",
       "  <tbody>\n",
       "    <tr>\n",
       "      <th>RRNn</th>\n",
       "      <td>2</td>\n",
       "      <td>96750.000000</td>\n",
       "    </tr>\n",
       "    <tr>\n",
       "      <th>Artery</th>\n",
       "      <td>5</td>\n",
       "      <td>119050.000000</td>\n",
       "    </tr>\n",
       "    <tr>\n",
       "      <th>Feedr</th>\n",
       "      <td>11</td>\n",
       "      <td>129181.818182</td>\n",
       "    </tr>\n",
       "    <tr>\n",
       "      <th>RRAn</th>\n",
       "      <td>1</td>\n",
       "      <td>136905.000000</td>\n",
       "    </tr>\n",
       "    <tr>\n",
       "      <th>Norm</th>\n",
       "      <td>2025</td>\n",
       "      <td>181382.075556</td>\n",
       "    </tr>\n",
       "    <tr>\n",
       "      <th>RRAe</th>\n",
       "      <td>1</td>\n",
       "      <td>190000.000000</td>\n",
       "    </tr>\n",
       "    <tr>\n",
       "      <th>PosA</th>\n",
       "      <td>3</td>\n",
       "      <td>390666.666667</td>\n",
       "    </tr>\n",
       "    <tr>\n",
       "      <th>PosN</th>\n",
       "      <td>3</td>\n",
       "      <td>395666.666667</td>\n",
       "    </tr>\n",
       "  </tbody>\n",
       "</table>\n",
       "</div>"
      ],
      "text/plain": [
       "             count           mean\n",
       "condition_2                      \n",
       "RRNn             2   96750.000000\n",
       "Artery           5  119050.000000\n",
       "Feedr           11  129181.818182\n",
       "RRAn             1  136905.000000\n",
       "Norm          2025  181382.075556\n",
       "RRAe             1  190000.000000\n",
       "PosA             3  390666.666667\n",
       "PosN             3  395666.666667"
      ]
     },
     "execution_count": 104,
     "metadata": {},
     "output_type": "execute_result"
    }
   ],
   "source": [
    "ames.groupby('condition_2')['SalePrice'].agg(['count', 'mean']).sort_values('mean')"
   ]
  },
  {
   "cell_type": "code",
   "execution_count": 105,
   "id": "cef512b7-39b9-4d98-b739-493371a29c68",
   "metadata": {},
   "outputs": [
    {
     "data": {
      "text/html": [
       "<div>\n",
       "<style scoped>\n",
       "    .dataframe tbody tr th:only-of-type {\n",
       "        vertical-align: middle;\n",
       "    }\n",
       "\n",
       "    .dataframe tbody tr th {\n",
       "        vertical-align: top;\n",
       "    }\n",
       "\n",
       "    .dataframe thead th {\n",
       "        text-align: right;\n",
       "    }\n",
       "</style>\n",
       "<table border=\"1\" class=\"dataframe\">\n",
       "  <thead>\n",
       "    <tr style=\"text-align: right;\">\n",
       "      <th></th>\n",
       "      <th>count</th>\n",
       "      <th>mean</th>\n",
       "    </tr>\n",
       "    <tr>\n",
       "      <th>bldg_type</th>\n",
       "      <th></th>\n",
       "      <th></th>\n",
       "    </tr>\n",
       "  </thead>\n",
       "  <tbody>\n",
       "    <tr>\n",
       "      <th>2fmCon</th>\n",
       "      <td>46</td>\n",
       "      <td>123179.891304</td>\n",
       "    </tr>\n",
       "    <tr>\n",
       "      <th>Twnhs</th>\n",
       "      <td>69</td>\n",
       "      <td>133100.000000</td>\n",
       "    </tr>\n",
       "    <tr>\n",
       "      <th>Duplex</th>\n",
       "      <td>75</td>\n",
       "      <td>139296.333333</td>\n",
       "    </tr>\n",
       "    <tr>\n",
       "      <th>1Fam</th>\n",
       "      <td>1700</td>\n",
       "      <td>185275.685882</td>\n",
       "    </tr>\n",
       "    <tr>\n",
       "      <th>TwnhsE</th>\n",
       "      <td>161</td>\n",
       "      <td>198312.372671</td>\n",
       "    </tr>\n",
       "  </tbody>\n",
       "</table>\n",
       "</div>"
      ],
      "text/plain": [
       "           count           mean\n",
       "bldg_type                      \n",
       "2fmCon        46  123179.891304\n",
       "Twnhs         69  133100.000000\n",
       "Duplex        75  139296.333333\n",
       "1Fam        1700  185275.685882\n",
       "TwnhsE       161  198312.372671"
      ]
     },
     "execution_count": 105,
     "metadata": {},
     "output_type": "execute_result"
    }
   ],
   "source": [
    "ames.groupby('bldg_type')['SalePrice'].agg(['count', 'mean']).sort_values('mean')"
   ]
  },
  {
   "cell_type": "code",
   "execution_count": 106,
   "id": "e414f751-1337-4a74-aa2c-f0170c3564b9",
   "metadata": {},
   "outputs": [
    {
     "data": {
      "text/plain": [
       "1Story    1059\n",
       "2Story     598\n",
       "1.5Fin     218\n",
       "SLvl        94\n",
       "SFoyer      50\n",
       "2.5Unf      14\n",
       "1.5Unf      12\n",
       "2.5Fin       6\n",
       "Name: house_style, dtype: int64"
      ]
     },
     "execution_count": 106,
     "metadata": {},
     "output_type": "execute_result"
    }
   ],
   "source": [
    "ames.house_style.value_counts(dropna=False)"
   ]
  },
  {
   "cell_type": "code",
   "execution_count": 107,
   "id": "ed80c221-74a1-47d5-9894-9eca0c6acef7",
   "metadata": {},
   "outputs": [
    {
     "data": {
      "text/plain": [
       "house_style\n",
       "1.5Unf    112466.666667\n",
       "1.5Fin    136480.091743\n",
       "SFoyer    149343.920000\n",
       "SLvl      166248.989362\n",
       "1Story    179809.194523\n",
       "2.5Unf    191785.714286\n",
       "2Story    206408.963211\n",
       "2.5Fin    243666.666667\n",
       "Name: SalePrice, dtype: float64"
      ]
     },
     "execution_count": 107,
     "metadata": {},
     "output_type": "execute_result"
    }
   ],
   "source": [
    "ames.groupby('house_style')['SalePrice'].mean().sort_values()"
   ]
  },
  {
   "cell_type": "code",
   "execution_count": 108,
   "id": "da37830b-19fe-4ca8-9a6f-e05e648c80e1",
   "metadata": {},
   "outputs": [
    {
     "data": {
      "text/plain": [
       "5    1168\n",
       "6     368\n",
       "7     270\n",
       "8     101\n",
       "4      70\n",
       "3      35\n",
       "9      29\n",
       "2       6\n",
       "1       4\n",
       "Name: overall_cond, dtype: int64"
      ]
     },
     "execution_count": 108,
     "metadata": {},
     "output_type": "execute_result"
    }
   ],
   "source": [
    "ames.overall_cond.value_counts(dropna=False)"
   ]
  },
  {
   "cell_type": "code",
   "execution_count": 109,
   "id": "ebf24eaf-0535-4cff-be7a-f37a00242a89",
   "metadata": {},
   "outputs": [
    {
     "data": {
      "text/plain": [
       "overall_cond\n",
       "1     59625.000000\n",
       "2     65364.833333\n",
       "3     99786.000000\n",
       "4    114034.571429\n",
       "6    148952.665761\n",
       "7    155327.270370\n",
       "8    155913.366337\n",
       "9    198177.586207\n",
       "5    207055.988870\n",
       "Name: SalePrice, dtype: float64"
      ]
     },
     "execution_count": 109,
     "metadata": {},
     "output_type": "execute_result"
    }
   ],
   "source": [
    "ames.groupby('overall_cond')['SalePrice'].mean().sort_values()"
   ]
  },
  {
   "cell_type": "code",
   "execution_count": 110,
   "id": "e27ec524-39a2-4889-989f-ba9c0e1a7a65",
   "metadata": {},
   "outputs": [
    {
     "data": {
      "text/plain": [
       "roof_style\n",
       "Gambrel    138208.333333\n",
       "Mansard    152642.857143\n",
       "Gable      171264.253243\n",
       "Flat       191613.076923\n",
       "Shed       208666.666667\n",
       "Hip        224366.654912\n",
       "Name: SalePrice, dtype: float64"
      ]
     },
     "execution_count": 110,
     "metadata": {},
     "output_type": "execute_result"
    }
   ],
   "source": [
    "ames.groupby('roof_style')['SalePrice'].mean().sort_values()"
   ]
  },
  {
   "cell_type": "code",
   "execution_count": 111,
   "id": "316a3b32-26ff-4aba-b0db-71157f47c601",
   "metadata": {},
   "outputs": [
    {
     "data": {
      "text/plain": [
       "Gable      1619\n",
       "Hip         397\n",
       "Flat         13\n",
       "Gambrel      12\n",
       "Mansard       7\n",
       "Shed          3\n",
       "Name: roof_style, dtype: int64"
      ]
     },
     "execution_count": 111,
     "metadata": {},
     "output_type": "execute_result"
    }
   ],
   "source": [
    "ames.roof_style.value_counts(dropna=False)"
   ]
  },
  {
   "cell_type": "code",
   "execution_count": 112,
   "id": "0a9fd20c-a577-4f4c-9b33-7351cc458668",
   "metadata": {},
   "outputs": [
    {
     "data": {
      "text/plain": [
       "CompShg    2025\n",
       "Tar&Grv      15\n",
       "WdShngl       5\n",
       "WdShake       4\n",
       "Membran       1\n",
       "ClyTile       1\n",
       "Name: roof_matl, dtype: int64"
      ]
     },
     "execution_count": 112,
     "metadata": {},
     "output_type": "execute_result"
    }
   ],
   "source": [
    "ames.roof_matl.value_counts(dropna=False)"
   ]
  },
  {
   "cell_type": "code",
   "execution_count": 113,
   "id": "628d766b-62e9-4f37-af14-797f79b6b9ef",
   "metadata": {},
   "outputs": [
    {
     "data": {
      "text/plain": [
       "VinylSd    724\n",
       "MetalSd    331\n",
       "HdBoard    300\n",
       "Wd Sdng    276\n",
       "Plywood    152\n",
       "CemntBd     90\n",
       "BrkFace     64\n",
       "WdShing     45\n",
       "AsbShng     33\n",
       "Stucco      27\n",
       "BrkComm      3\n",
       "Stone        2\n",
       "CBlock       2\n",
       "ImStucc      1\n",
       "AsphShn      1\n",
       "Name: exterior_1st, dtype: int64"
      ]
     },
     "execution_count": 113,
     "metadata": {},
     "output_type": "execute_result"
    }
   ],
   "source": [
    "ames.exterior_1st.value_counts(dropna=False)"
   ]
  },
  {
   "cell_type": "code",
   "execution_count": 114,
   "id": "b72325a0-182b-4ba8-81ac-0e2bbb666923",
   "metadata": {},
   "outputs": [
    {
     "data": {
      "text/plain": [
       "exterior_1st\n",
       "AsphShn     82375.000000\n",
       "CBlock      93250.000000\n",
       "AsbShng    103183.333333\n",
       "BrkComm    131000.000000\n",
       "Stucco     139712.962963\n",
       "Wd Sdng    142940.887681\n",
       "MetalSd    154402.048338\n",
       "WdShing    155616.822222\n",
       "HdBoard    159582.473333\n",
       "Plywood    170511.453947\n",
       "BrkFace    193055.093750\n",
       "VinylSd    218174.082873\n",
       "CemntBd    243429.088889\n",
       "Stone      258500.000000\n",
       "ImStucc    262000.000000\n",
       "Name: SalePrice, dtype: float64"
      ]
     },
     "execution_count": 114,
     "metadata": {},
     "output_type": "execute_result"
    }
   ],
   "source": [
    "ames.groupby('exterior_1st')['SalePrice'].mean().sort_values()"
   ]
  },
  {
   "cell_type": "code",
   "execution_count": 115,
   "id": "a7c065bc-a02f-4475-99d7-9cf757f8cdfb",
   "metadata": {},
   "outputs": [
    {
     "data": {
      "text/plain": [
       "VinylSd    721\n",
       "MetalSd    324\n",
       "HdBoard    275\n",
       "Wd Sdng    262\n",
       "Plywood    185\n",
       "CmentBd     90\n",
       "Wd Shng     63\n",
       "BrkFace     34\n",
       "Stucco      30\n",
       "AsbShng     28\n",
       "Brk Cmn     17\n",
       "ImStucc     11\n",
       "Stone        6\n",
       "AsphShn      3\n",
       "CBlock       2\n",
       "Name: exterior_2nd, dtype: int64"
      ]
     },
     "execution_count": 115,
     "metadata": {},
     "output_type": "execute_result"
    }
   ],
   "source": [
    "ames.exterior_2nd.value_counts(dropna=False)"
   ]
  },
  {
   "cell_type": "code",
   "execution_count": 116,
   "id": "5c4314e7-48a1-4616-bf19-8bdf90c9c33a",
   "metadata": {},
   "outputs": [
    {
     "data": {
      "text/plain": [
       "exterior_2nd\n",
       "CBlock      92000.000000\n",
       "AsbShng    107108.928571\n",
       "AsphShn    132125.000000\n",
       "Brk Cmn    139958.823529\n",
       "Stone      145420.666667\n",
       "Wd Sdng    145654.396947\n",
       "Stucco     147725.333333\n",
       "Wd Shng    154244.444444\n",
       "MetalSd    155978.635802\n",
       "HdBoard    160836.880000\n",
       "Plywood    166485.713514\n",
       "BrkFace    187992.647059\n",
       "VinylSd    217798.685160\n",
       "ImStucc    227472.727273\n",
       "CmentBd    239540.200000\n",
       "Name: SalePrice, dtype: float64"
      ]
     },
     "execution_count": 116,
     "metadata": {},
     "output_type": "execute_result"
    }
   ],
   "source": [
    "ames.groupby('exterior_2nd')['SalePrice'].mean().sort_values()"
   ]
  },
  {
   "cell_type": "code",
   "execution_count": 117,
   "id": "ef0db8c9-1400-445c-8dfb-2dbea8771400",
   "metadata": {},
   "outputs": [
    {
     "data": {
      "text/plain": [
       "TA    1247\n",
       "Gd     697\n",
       "Ex      81\n",
       "Fa      26\n",
       "Name: exter_qual, dtype: int64"
      ]
     },
     "execution_count": 117,
     "metadata": {},
     "output_type": "execute_result"
    }
   ],
   "source": [
    "ames.exter_qual.value_counts(dropna=False)"
   ]
  },
  {
   "cell_type": "code",
   "execution_count": 118,
   "id": "529a5c6d-1551-40fd-9ef5-6e1139b634a3",
   "metadata": {},
   "outputs": [
    {
     "data": {
      "text/plain": [
       "exter_qual\n",
       "Fa     89801.192308\n",
       "TA    143270.978348\n",
       "Gd    230802.484935\n",
       "Ex    374460.308642\n",
       "Name: SalePrice, dtype: float64"
      ]
     },
     "execution_count": 118,
     "metadata": {},
     "output_type": "execute_result"
    }
   ],
   "source": [
    "ames.groupby('exter_qual')['SalePrice'].mean().sort_values()"
   ]
  },
  {
   "cell_type": "code",
   "execution_count": 119,
   "id": "d061eefb-c3a2-40f2-bdbe-1d77750d9824",
   "metadata": {},
   "outputs": [
    {
     "data": {
      "text/plain": [
       "TA    1778\n",
       "Gd     215\n",
       "Fa      49\n",
       "Ex       7\n",
       "Po       2\n",
       "Name: exter_cond, dtype: int64"
      ]
     },
     "execution_count": 119,
     "metadata": {},
     "output_type": "execute_result"
    }
   ],
   "source": [
    "ames.exter_cond.value_counts(dropna=False)"
   ]
  },
  {
   "cell_type": "code",
   "execution_count": 120,
   "id": "f7ea4c2a-ca17-45a4-a0dc-5ebd81cc80bf",
   "metadata": {},
   "outputs": [
    {
     "data": {
      "text/plain": [
       "exter_cond\n",
       "Po     44800.000000\n",
       "Fa    102507.693878\n",
       "Gd    167623.023256\n",
       "TA    185258.202475\n",
       "Ex    236263.857143\n",
       "Name: SalePrice, dtype: float64"
      ]
     },
     "execution_count": 120,
     "metadata": {},
     "output_type": "execute_result"
    }
   ],
   "source": [
    "ames.groupby('exter_cond')['SalePrice'].mean().sort_values()"
   ]
  },
  {
   "cell_type": "code",
   "execution_count": 121,
   "id": "c54aa4b8-cb87-4c32-89ee-72c329cd10a7",
   "metadata": {},
   "outputs": [
    {
     "data": {
      "text/plain": [
       "PConc     926\n",
       "CBlock    863\n",
       "BrkTil    221\n",
       "Slab       34\n",
       "Stone       5\n",
       "Wood        2\n",
       "Name: foundation, dtype: int64"
      ]
     },
     "execution_count": 121,
     "metadata": {},
     "output_type": "execute_result"
    }
   ],
   "source": [
    "ames.foundation.value_counts(dropna=False)"
   ]
  },
  {
   "cell_type": "code",
   "execution_count": 122,
   "id": "3b4bd8ca-2402-488b-abcf-4e5d23edf1c4",
   "metadata": {},
   "outputs": [
    {
     "data": {
      "text/plain": [
       "foundation\n",
       "Slab      108810.676471\n",
       "BrkTil    129050.190045\n",
       "Stone     143235.200000\n",
       "CBlock    148415.530707\n",
       "Wood      173750.000000\n",
       "PConc     227676.483801\n",
       "Name: SalePrice, dtype: float64"
      ]
     },
     "execution_count": 122,
     "metadata": {},
     "output_type": "execute_result"
    }
   ],
   "source": [
    "ames.groupby('foundation')['SalePrice'].mean().sort_values()"
   ]
  },
  {
   "cell_type": "code",
   "execution_count": 123,
   "id": "08905093-de15-4224-b338-e840df5f84cc",
   "metadata": {},
   "outputs": [
    {
     "data": {
      "text/plain": [
       "average        887\n",
       "good           864\n",
       "excellent      184\n",
       "fair            60\n",
       "NaN             55\n",
       "poor             1\n",
       "no_basement      0\n",
       "Name: bsmt_qual, dtype: int64"
      ]
     },
     "execution_count": 123,
     "metadata": {},
     "output_type": "execute_result"
    }
   ],
   "source": [
    "ames.bsmt_qual.value_counts(dropna=False)"
   ]
  },
  {
   "cell_type": "code",
   "execution_count": 124,
   "id": "9d5eb591-8e77-48d8-b57a-bf34e17f7cbc",
   "metadata": {},
   "outputs": [
    {
     "data": {
      "text/plain": [
       "no_exposure      1339\n",
       "avg_exposure      288\n",
       "good_exposure     203\n",
       "min_exposure      163\n",
       "NaN                58\n",
       "no_basement         0\n",
       "Name: bsmt_exposure, dtype: int64"
      ]
     },
     "execution_count": 124,
     "metadata": {},
     "output_type": "execute_result"
    }
   ],
   "source": [
    "ames.bsmt_exposure.value_counts(dropna=False)"
   ]
  },
  {
   "cell_type": "code",
   "execution_count": 125,
   "id": "3942300c-7e84-4180-9996-f18ae7b3e71a",
   "metadata": {},
   "outputs": [
    {
     "data": {
      "text/plain": [
       "bsmt_exposure\n",
       "no_exposure      164533.532487\n",
       "min_exposure     189377.570552\n",
       "avg_exposure     206262.451389\n",
       "good_exposure    271610.566502\n",
       "no_basement                NaN\n",
       "Name: SalePrice, dtype: float64"
      ]
     },
     "execution_count": 125,
     "metadata": {},
     "output_type": "execute_result"
    }
   ],
   "source": [
    "ames.groupby('bsmt_exposure')['SalePrice'].mean().sort_values()"
   ]
  },
  {
   "cell_type": "code",
   "execution_count": 126,
   "id": "5c42a04e-943e-44ef-9a80-a22f4faa5b50",
   "metadata": {},
   "outputs": [
    {
     "data": {
      "text/plain": [
       "unf            1749\n",
       "rec              80\n",
       "lwq              60\n",
       "NaN              56\n",
       "blq              48\n",
       "alq              35\n",
       "glq              23\n",
       "no_basement       0\n",
       "Name: bsmtfin_type_2, dtype: int64"
      ]
     },
     "execution_count": 126,
     "metadata": {},
     "output_type": "execute_result"
    }
   ],
   "source": [
    "ames['bsmtfin_type_2'].value_counts(dropna=False)"
   ]
  },
  {
   "cell_type": "code",
   "execution_count": 127,
   "id": "11c91397-b4d2-48e8-ba09-58508a2a71cb",
   "metadata": {},
   "outputs": [
    {
     "data": {
      "text/html": [
       "<div>\n",
       "<style scoped>\n",
       "    .dataframe tbody tr th:only-of-type {\n",
       "        vertical-align: middle;\n",
       "    }\n",
       "\n",
       "    .dataframe tbody tr th {\n",
       "        vertical-align: top;\n",
       "    }\n",
       "\n",
       "    .dataframe thead th {\n",
       "        text-align: right;\n",
       "    }\n",
       "</style>\n",
       "<table border=\"1\" class=\"dataframe\">\n",
       "  <thead>\n",
       "    <tr style=\"text-align: right;\">\n",
       "      <th></th>\n",
       "      <th>count</th>\n",
       "      <th>mean</th>\n",
       "    </tr>\n",
       "    <tr>\n",
       "      <th>heating</th>\n",
       "      <th></th>\n",
       "      <th></th>\n",
       "    </tr>\n",
       "  </thead>\n",
       "  <tbody>\n",
       "    <tr>\n",
       "      <th>Grav</th>\n",
       "      <td>5</td>\n",
       "      <td>65180.00000</td>\n",
       "    </tr>\n",
       "    <tr>\n",
       "      <th>Wall</th>\n",
       "      <td>6</td>\n",
       "      <td>77150.00000</td>\n",
       "    </tr>\n",
       "    <tr>\n",
       "      <th>OthW</th>\n",
       "      <td>2</td>\n",
       "      <td>125750.00000</td>\n",
       "    </tr>\n",
       "    <tr>\n",
       "      <th>GasW</th>\n",
       "      <td>20</td>\n",
       "      <td>151275.00000</td>\n",
       "    </tr>\n",
       "    <tr>\n",
       "      <th>GasA</th>\n",
       "      <td>2018</td>\n",
       "      <td>182422.47671</td>\n",
       "    </tr>\n",
       "  </tbody>\n",
       "</table>\n",
       "</div>"
      ],
      "text/plain": [
       "         count          mean\n",
       "heating                     \n",
       "Grav         5   65180.00000\n",
       "Wall         6   77150.00000\n",
       "OthW         2  125750.00000\n",
       "GasW        20  151275.00000\n",
       "GasA      2018  182422.47671"
      ]
     },
     "execution_count": 127,
     "metadata": {},
     "output_type": "execute_result"
    }
   ],
   "source": [
    "ames.groupby('heating')['SalePrice'].agg(['count', 'mean']).sort_values('mean')"
   ]
  },
  {
   "cell_type": "code",
   "execution_count": 128,
   "id": "a1990fad-1690-4b86-b177-fc5f32f4d8ac",
   "metadata": {},
   "outputs": [
    {
     "data": {
      "text/html": [
       "<div>\n",
       "<style scoped>\n",
       "    .dataframe tbody tr th:only-of-type {\n",
       "        vertical-align: middle;\n",
       "    }\n",
       "\n",
       "    .dataframe tbody tr th {\n",
       "        vertical-align: top;\n",
       "    }\n",
       "\n",
       "    .dataframe thead th {\n",
       "        text-align: right;\n",
       "    }\n",
       "</style>\n",
       "<table border=\"1\" class=\"dataframe\">\n",
       "  <thead>\n",
       "    <tr style=\"text-align: right;\">\n",
       "      <th></th>\n",
       "      <th>count</th>\n",
       "      <th>mean</th>\n",
       "    </tr>\n",
       "    <tr>\n",
       "      <th>heating_qc</th>\n",
       "      <th></th>\n",
       "      <th></th>\n",
       "    </tr>\n",
       "  </thead>\n",
       "  <tbody>\n",
       "    <tr>\n",
       "      <th>Po</th>\n",
       "      <td>3</td>\n",
       "      <td>69033.333333</td>\n",
       "    </tr>\n",
       "    <tr>\n",
       "      <th>Fa</th>\n",
       "      <td>67</td>\n",
       "      <td>117123.641791</td>\n",
       "    </tr>\n",
       "    <tr>\n",
       "      <th>TA</th>\n",
       "      <td>597</td>\n",
       "      <td>138986.705193</td>\n",
       "    </tr>\n",
       "    <tr>\n",
       "      <th>Gd</th>\n",
       "      <td>319</td>\n",
       "      <td>160174.009404</td>\n",
       "    </tr>\n",
       "    <tr>\n",
       "      <th>Ex</th>\n",
       "      <td>1065</td>\n",
       "      <td>216027.607512</td>\n",
       "    </tr>\n",
       "  </tbody>\n",
       "</table>\n",
       "</div>"
      ],
      "text/plain": [
       "            count           mean\n",
       "heating_qc                      \n",
       "Po              3   69033.333333\n",
       "Fa             67  117123.641791\n",
       "TA            597  138986.705193\n",
       "Gd            319  160174.009404\n",
       "Ex           1065  216027.607512"
      ]
     },
     "execution_count": 128,
     "metadata": {},
     "output_type": "execute_result"
    }
   ],
   "source": [
    "ames.groupby('heating_qc')['SalePrice'].agg(['count', 'mean']).sort_values('mean')"
   ]
  },
  {
   "cell_type": "code",
   "execution_count": 129,
   "id": "a962e31c-0219-4092-8ab6-8136a6fd6129",
   "metadata": {},
   "outputs": [
    {
     "data": {
      "text/html": [
       "<div>\n",
       "<style scoped>\n",
       "    .dataframe tbody tr th:only-of-type {\n",
       "        vertical-align: middle;\n",
       "    }\n",
       "\n",
       "    .dataframe tbody tr th {\n",
       "        vertical-align: top;\n",
       "    }\n",
       "\n",
       "    .dataframe thead th {\n",
       "        text-align: right;\n",
       "    }\n",
       "</style>\n",
       "<table border=\"1\" class=\"dataframe\">\n",
       "  <thead>\n",
       "    <tr style=\"text-align: right;\">\n",
       "      <th></th>\n",
       "      <th>count</th>\n",
       "      <th>mean</th>\n",
       "    </tr>\n",
       "    <tr>\n",
       "      <th>central_air</th>\n",
       "      <th></th>\n",
       "      <th></th>\n",
       "    </tr>\n",
       "  </thead>\n",
       "  <tbody>\n",
       "    <tr>\n",
       "      <th>N</th>\n",
       "      <td>141</td>\n",
       "      <td>100575.078014</td>\n",
       "    </tr>\n",
       "    <tr>\n",
       "      <th>Y</th>\n",
       "      <td>1910</td>\n",
       "      <td>187441.503665</td>\n",
       "    </tr>\n",
       "  </tbody>\n",
       "</table>\n",
       "</div>"
      ],
      "text/plain": [
       "             count           mean\n",
       "central_air                      \n",
       "N              141  100575.078014\n",
       "Y             1910  187441.503665"
      ]
     },
     "execution_count": 129,
     "metadata": {},
     "output_type": "execute_result"
    }
   ],
   "source": [
    "ames.groupby('central_air')['SalePrice'].agg(['count', 'mean']).sort_values('mean')"
   ]
  },
  {
   "cell_type": "code",
   "execution_count": 130,
   "id": "81e00ace-db5f-4ffd-9d2c-6b27e838c7eb",
   "metadata": {},
   "outputs": [
    {
     "data": {
      "text/html": [
       "<div>\n",
       "<style scoped>\n",
       "    .dataframe tbody tr th:only-of-type {\n",
       "        vertical-align: middle;\n",
       "    }\n",
       "\n",
       "    .dataframe tbody tr th {\n",
       "        vertical-align: top;\n",
       "    }\n",
       "\n",
       "    .dataframe thead th {\n",
       "        text-align: right;\n",
       "    }\n",
       "</style>\n",
       "<table border=\"1\" class=\"dataframe\">\n",
       "  <thead>\n",
       "    <tr style=\"text-align: right;\">\n",
       "      <th></th>\n",
       "      <th>count</th>\n",
       "      <th>mean</th>\n",
       "    </tr>\n",
       "    <tr>\n",
       "      <th>electrical</th>\n",
       "      <th></th>\n",
       "      <th></th>\n",
       "    </tr>\n",
       "  </thead>\n",
       "  <tbody>\n",
       "    <tr>\n",
       "      <th>Mix</th>\n",
       "      <td>1</td>\n",
       "      <td>67000.000000</td>\n",
       "    </tr>\n",
       "    <tr>\n",
       "      <th>FuseP</th>\n",
       "      <td>7</td>\n",
       "      <td>83485.714286</td>\n",
       "    </tr>\n",
       "    <tr>\n",
       "      <th>FuseF</th>\n",
       "      <td>35</td>\n",
       "      <td>103678.914286</td>\n",
       "    </tr>\n",
       "    <tr>\n",
       "      <th>FuseA</th>\n",
       "      <td>140</td>\n",
       "      <td>122565.157143</td>\n",
       "    </tr>\n",
       "    <tr>\n",
       "      <th>SBrkr</th>\n",
       "      <td>1868</td>\n",
       "      <td>187770.382227</td>\n",
       "    </tr>\n",
       "  </tbody>\n",
       "</table>\n",
       "</div>"
      ],
      "text/plain": [
       "            count           mean\n",
       "electrical                      \n",
       "Mix             1   67000.000000\n",
       "FuseP           7   83485.714286\n",
       "FuseF          35  103678.914286\n",
       "FuseA         140  122565.157143\n",
       "SBrkr        1868  187770.382227"
      ]
     },
     "execution_count": 130,
     "metadata": {},
     "output_type": "execute_result"
    }
   ],
   "source": [
    "ames.groupby('electrical')['SalePrice'].agg(['count', 'mean']).sort_values('mean')"
   ]
  },
  {
   "cell_type": "code",
   "execution_count": 131,
   "id": "b1ad127c-cd32-4156-afe6-90a61862a8c2",
   "metadata": {},
   "outputs": [
    {
     "data": {
      "image/png": "[encoded data removed]",
      "text/plain": [
       "<Figure size 640x480 with 1 Axes>"
      ]
     },
     "metadata": {},
     "output_type": "display_data"
    }
   ],
   "source": [
    "sns.histplot(ames['second_flr_sf']);"
   ]
  },
  {
   "cell_type": "code",
   "execution_count": 132,
   "id": "bd7ac627-67b5-4012-a3fa-82e5e535a3ad",
   "metadata": {},
   "outputs": [
    {
     "data": {
      "text/plain": [
       "<Axes: xlabel='kitchen_abvgr', ylabel='Count'>"
      ]
     },
     "execution_count": 132,
     "metadata": {},
     "output_type": "execute_result"
    },
    {
     "data": {
      "image/png": "[encoded data removed]",
      "text/plain": [
       "<Figure size 640x480 with 1 Axes>"
      ]
     },
     "metadata": {},
     "output_type": "display_data"
    }
   ],
   "source": [
    "sns.histplot(ames['kitchen_abvgr'])"
   ]
  },
  {
   "cell_type": "code",
   "execution_count": 133,
   "id": "0fed7efc-5bf8-4e34-b1cc-66145cfd977c",
   "metadata": {},
   "outputs": [
    {
     "data": {
      "text/html": [
       "<div>\n",
       "<style scoped>\n",
       "    .dataframe tbody tr th:only-of-type {\n",
       "        vertical-align: middle;\n",
       "    }\n",
       "\n",
       "    .dataframe tbody tr th {\n",
       "        vertical-align: top;\n",
       "    }\n",
       "\n",
       "    .dataframe thead th {\n",
       "        text-align: right;\n",
       "    }\n",
       "</style>\n",
       "<table border=\"1\" class=\"dataframe\">\n",
       "  <thead>\n",
       "    <tr style=\"text-align: right;\">\n",
       "      <th></th>\n",
       "      <th>count</th>\n",
       "      <th>mean</th>\n",
       "    </tr>\n",
       "    <tr>\n",
       "      <th>kitchen_qual</th>\n",
       "      <th></th>\n",
       "      <th></th>\n",
       "    </tr>\n",
       "  </thead>\n",
       "  <tbody>\n",
       "    <tr>\n",
       "      <th>Fa</th>\n",
       "      <td>47</td>\n",
       "      <td>101334.957447</td>\n",
       "    </tr>\n",
       "    <tr>\n",
       "      <th>TA</th>\n",
       "      <td>1047</td>\n",
       "      <td>139501.607450</td>\n",
       "    </tr>\n",
       "    <tr>\n",
       "      <th>Gd</th>\n",
       "      <td>806</td>\n",
       "      <td>211629.451613</td>\n",
       "    </tr>\n",
       "    <tr>\n",
       "      <th>Ex</th>\n",
       "      <td>151</td>\n",
       "      <td>336424.463576</td>\n",
       "    </tr>\n",
       "  </tbody>\n",
       "</table>\n",
       "</div>"
      ],
      "text/plain": [
       "              count           mean\n",
       "kitchen_qual                      \n",
       "Fa               47  101334.957447\n",
       "TA             1047  139501.607450\n",
       "Gd              806  211629.451613\n",
       "Ex              151  336424.463576"
      ]
     },
     "execution_count": 133,
     "metadata": {},
     "output_type": "execute_result"
    }
   ],
   "source": [
    "ames.groupby('kitchen_qual')['SalePrice'].agg(['count', 'mean']).sort_values('mean')"
   ]
  },
  {
   "cell_type": "code",
   "execution_count": 134,
   "id": "2a585950-ede5-4722-8f25-7bfdb398267f",
   "metadata": {},
   "outputs": [
    {
     "data": {
      "text/html": [
       "<div>\n",
       "<style scoped>\n",
       "    .dataframe tbody tr th:only-of-type {\n",
       "        vertical-align: middle;\n",
       "    }\n",
       "\n",
       "    .dataframe tbody tr th {\n",
       "        vertical-align: top;\n",
       "    }\n",
       "\n",
       "    .dataframe thead th {\n",
       "        text-align: right;\n",
       "    }\n",
       "</style>\n",
       "<table border=\"1\" class=\"dataframe\">\n",
       "  <thead>\n",
       "    <tr style=\"text-align: right;\">\n",
       "      <th></th>\n",
       "      <th>count</th>\n",
       "      <th>mean</th>\n",
       "    </tr>\n",
       "    <tr>\n",
       "      <th>functional</th>\n",
       "      <th></th>\n",
       "      <th></th>\n",
       "    </tr>\n",
       "  </thead>\n",
       "  <tbody>\n",
       "    <tr>\n",
       "      <th>Sal</th>\n",
       "      <td>2</td>\n",
       "      <td>31550.000000</td>\n",
       "    </tr>\n",
       "    <tr>\n",
       "      <th>Maj2</th>\n",
       "      <td>7</td>\n",
       "      <td>87157.714286</td>\n",
       "    </tr>\n",
       "    <tr>\n",
       "      <th>Sev</th>\n",
       "      <td>2</td>\n",
       "      <td>95750.000000</td>\n",
       "    </tr>\n",
       "    <tr>\n",
       "      <th>Mod</th>\n",
       "      <td>29</td>\n",
       "      <td>148108.724138</td>\n",
       "    </tr>\n",
       "    <tr>\n",
       "      <th>Min2</th>\n",
       "      <td>42</td>\n",
       "      <td>150424.571429</td>\n",
       "    </tr>\n",
       "    <tr>\n",
       "      <th>Min1</th>\n",
       "      <td>42</td>\n",
       "      <td>154429.761905</td>\n",
       "    </tr>\n",
       "    <tr>\n",
       "      <th>Maj1</th>\n",
       "      <td>12</td>\n",
       "      <td>163106.166667</td>\n",
       "    </tr>\n",
       "    <tr>\n",
       "      <th>Typ</th>\n",
       "      <td>1915</td>\n",
       "      <td>183954.749347</td>\n",
       "    </tr>\n",
       "  </tbody>\n",
       "</table>\n",
       "</div>"
      ],
      "text/plain": [
       "            count           mean\n",
       "functional                      \n",
       "Sal             2   31550.000000\n",
       "Maj2            7   87157.714286\n",
       "Sev             2   95750.000000\n",
       "Mod            29  148108.724138\n",
       "Min2           42  150424.571429\n",
       "Min1           42  154429.761905\n",
       "Maj1           12  163106.166667\n",
       "Typ          1915  183954.749347"
      ]
     },
     "execution_count": 134,
     "metadata": {},
     "output_type": "execute_result"
    }
   ],
   "source": [
    "ames.groupby('functional')['SalePrice'].agg(['count', 'mean']).sort_values('mean')"
   ]
  },
  {
   "cell_type": "code",
   "execution_count": 135,
   "id": "3faf4f34-d0eb-41dc-885c-cbf2acd59ed2",
   "metadata": {},
   "outputs": [
    {
     "data": {
      "text/plain": [
       "<Axes: xlabel='fireplaces', ylabel='Count'>"
      ]
     },
     "execution_count": 135,
     "metadata": {},
     "output_type": "execute_result"
    },
    {
     "data": {
      "image/png": "[encoded data removed]",
      "text/plain": [
       "<Figure size 640x480 with 1 Axes>"
      ]
     },
     "metadata": {},
     "output_type": "display_data"
    }
   ],
   "source": [
    "sns.histplot(ames['fireplaces'])"
   ]
  },
  {
   "cell_type": "code",
   "execution_count": 136,
   "id": "726867f8-422e-4d74-8343-acf46086f5ac",
   "metadata": {},
   "outputs": [
    {
     "data": {
      "text/html": [
       "<div>\n",
       "<style scoped>\n",
       "    .dataframe tbody tr th:only-of-type {\n",
       "        vertical-align: middle;\n",
       "    }\n",
       "\n",
       "    .dataframe tbody tr th {\n",
       "        vertical-align: top;\n",
       "    }\n",
       "\n",
       "    .dataframe thead th {\n",
       "        text-align: right;\n",
       "    }\n",
       "</style>\n",
       "<table border=\"1\" class=\"dataframe\">\n",
       "  <thead>\n",
       "    <tr style=\"text-align: right;\">\n",
       "      <th></th>\n",
       "      <th>count</th>\n",
       "      <th>mean</th>\n",
       "    </tr>\n",
       "    <tr>\n",
       "      <th>fireplaces</th>\n",
       "      <th></th>\n",
       "      <th></th>\n",
       "    </tr>\n",
       "  </thead>\n",
       "  <tbody>\n",
       "    <tr>\n",
       "      <th>0</th>\n",
       "      <td>1000</td>\n",
       "      <td>142001.103000</td>\n",
       "    </tr>\n",
       "    <tr>\n",
       "      <th>1</th>\n",
       "      <td>898</td>\n",
       "      <td>215478.776169</td>\n",
       "    </tr>\n",
       "    <tr>\n",
       "      <th>3</th>\n",
       "      <td>6</td>\n",
       "      <td>234808.333333</td>\n",
       "    </tr>\n",
       "    <tr>\n",
       "      <th>2</th>\n",
       "      <td>146</td>\n",
       "      <td>239893.589041</td>\n",
       "    </tr>\n",
       "    <tr>\n",
       "      <th>4</th>\n",
       "      <td>1</td>\n",
       "      <td>260000.000000</td>\n",
       "    </tr>\n",
       "  </tbody>\n",
       "</table>\n",
       "</div>"
      ],
      "text/plain": [
       "            count           mean\n",
       "fireplaces                      \n",
       "0            1000  142001.103000\n",
       "1             898  215478.776169\n",
       "3               6  234808.333333\n",
       "2             146  239893.589041\n",
       "4               1  260000.000000"
      ]
     },
     "execution_count": 136,
     "metadata": {},
     "output_type": "execute_result"
    }
   ],
   "source": [
    "ames.groupby('fireplaces')['SalePrice'].agg(['count', 'mean']).sort_values('mean')"
   ]
  },
  {
   "cell_type": "code",
   "execution_count": 137,
   "id": "f0a30d0a-d394-4486-939d-a2004ee748af",
   "metadata": {},
   "outputs": [
    {
     "data": {
      "text/plain": [
       "2.0    1136\n",
       "1.0     524\n",
       "3.0     263\n",
       "0.0     114\n",
       "4.0      13\n",
       "5.0       1\n",
       "Name: garage_cars, dtype: int64"
      ]
     },
     "execution_count": 137,
     "metadata": {},
     "output_type": "execute_result"
    }
   ],
   "source": [
    "ames['garage_cars'].value_counts(dropna=False)"
   ]
  },
  {
   "cell_type": "code",
   "execution_count": 138,
   "id": "6c9aeed8-a355-4da9-9496-3ad43f6c7f56",
   "metadata": {
    "tags": []
   },
   "outputs": [
    {
     "data": {
      "text/html": [
       "<div>\n",
       "<style scoped>\n",
       "    .dataframe tbody tr th:only-of-type {\n",
       "        vertical-align: middle;\n",
       "    }\n",
       "\n",
       "    .dataframe tbody tr th {\n",
       "        vertical-align: top;\n",
       "    }\n",
       "\n",
       "    .dataframe thead th {\n",
       "        text-align: right;\n",
       "    }\n",
       "</style>\n",
       "<table border=\"1\" class=\"dataframe\">\n",
       "  <thead>\n",
       "    <tr style=\"text-align: right;\">\n",
       "      <th></th>\n",
       "      <th>count</th>\n",
       "      <th>mean</th>\n",
       "    </tr>\n",
       "    <tr>\n",
       "      <th>paved_drive</th>\n",
       "      <th></th>\n",
       "      <th></th>\n",
       "    </tr>\n",
       "  </thead>\n",
       "  <tbody>\n",
       "    <tr>\n",
       "      <th>N</th>\n",
       "      <td>151</td>\n",
       "      <td>104562.827815</td>\n",
       "    </tr>\n",
       "    <tr>\n",
       "      <th>P</th>\n",
       "      <td>39</td>\n",
       "      <td>129824.461538</td>\n",
       "    </tr>\n",
       "    <tr>\n",
       "      <th>Y</th>\n",
       "      <td>1861</td>\n",
       "      <td>188792.163890</td>\n",
       "    </tr>\n",
       "  </tbody>\n",
       "</table>\n",
       "</div>"
      ],
      "text/plain": [
       "             count           mean\n",
       "paved_drive                      \n",
       "N              151  104562.827815\n",
       "P               39  129824.461538\n",
       "Y             1861  188792.163890"
      ]
     },
     "execution_count": 138,
     "metadata": {},
     "output_type": "execute_result"
    }
   ],
   "source": [
    "ames.groupby('paved_drive')['SalePrice'].agg(['count', 'mean']).sort_values('mean')"
   ]
  },
  {
   "cell_type": "code",
   "execution_count": 139,
   "id": "7574a650-e52c-4889-a71e-252ce6be9176",
   "metadata": {},
   "outputs": [],
   "source": [
    "ames['two_car_garage'] = np.where(ames['garage_cars'] == 2, 'Yes', 'No')\n",
    "ames['one_car_garage'] = np.where(ames['garage_cars'] == 1, 'Yes', 'No')\n",
    "ames['three_car_garage'] = np.where(ames['garage_cars'] == 3, 'Yes', 'No')"
   ]
  },
  {
   "cell_type": "code",
   "execution_count": 140,
   "id": "abc58f55-808f-4a2d-a5d7-d0e56d65b64e",
   "metadata": {},
   "outputs": [
    {
     "data": {
      "image/png": "[encoded data removed]",
      "text/plain": [
       "<Figure size 640x480 with 1 Axes>"
      ]
     },
     "metadata": {},
     "output_type": "display_data"
    }
   ],
   "source": [
    "sns.histplot(ames['wood_deck_sf']);"
   ]
  },
  {
   "cell_type": "code",
   "execution_count": 141,
   "id": "9f1af801-3419-4b9a-ae73-afca90c50749",
   "metadata": {},
   "outputs": [
    {
     "data": {
      "image/png": "[encoded data removed]",
      "text/plain": [
       "<Figure size 640x480 with 1 Axes>"
      ]
     },
     "metadata": {},
     "output_type": "display_data"
    }
   ],
   "source": [
    "sns.histplot(ames['open_porch_sf']);"
   ]
  },
  {
   "cell_type": "code",
   "execution_count": 142,
   "id": "2166bfc1-5252-4222-a802-43ed289b141f",
   "metadata": {},
   "outputs": [
    {
     "data": {
      "image/png": "[encoded data removed]",
      "text/plain": [
       "<Figure size 640x480 with 1 Axes>"
      ]
     },
     "metadata": {},
     "output_type": "display_data"
    }
   ],
   "source": [
    "sns.histplot(ames['enclosed_porch']);"
   ]
  },
  {
   "cell_type": "code",
   "execution_count": 143,
   "id": "25d43118-faa3-424b-925f-07f3f90af1a1",
   "metadata": {},
   "outputs": [
    {
     "data": {
      "image/png": "[encoded data removed]",
      "text/plain": [
       "<Figure size 640x480 with 1 Axes>"
      ]
     },
     "metadata": {},
     "output_type": "display_data"
    }
   ],
   "source": [
    "sns.histplot(ames['open_porch_sf']);"
   ]
  },
  {
   "cell_type": "code",
   "execution_count": 144,
   "id": "5e726207-ada4-438d-b0d7-59d4a4ecec59",
   "metadata": {},
   "outputs": [
    {
     "data": {
      "image/png": "[encoded data removed]",
      "text/plain": [
       "<Figure size 640x480 with 1 Axes>"
      ]
     },
     "metadata": {},
     "output_type": "display_data"
    }
   ],
   "source": [
    "sns.histplot(ames['3ssn_porch']);"
   ]
  },
  {
   "cell_type": "code",
   "execution_count": 145,
   "id": "ac3acec4-0b92-4856-a46d-8c2bcd3ae5b4",
   "metadata": {},
   "outputs": [
    {
     "data": {
      "image/png": "[encoded data removed]",
      "text/plain": [
       "<Figure size 640x480 with 1 Axes>"
      ]
     },
     "metadata": {},
     "output_type": "display_data"
    }
   ],
   "source": [
    "sns.histplot(ames['screen_porch']);"
   ]
  },
  {
   "cell_type": "code",
   "execution_count": 146,
   "id": "16b55092-02db-4dd8-96c2-71f7cf9fce67",
   "metadata": {},
   "outputs": [
    {
     "data": {
      "image/png": "[encoded data removed]",
      "text/plain": [
       "<Figure size 640x480 with 1 Axes>"
      ]
     },
     "metadata": {},
     "output_type": "display_data"
    }
   ],
   "source": [
    "sns.histplot(ames['pool_area']);"
   ]
  },
  {
   "cell_type": "code",
   "execution_count": 147,
   "id": "d3bd8471-20c6-4c56-b3f2-099d6547f8a7",
   "metadata": {},
   "outputs": [
    {
     "data": {
      "image/png": "[encoded data removed]",
      "text/plain": [
       "<Figure size 640x480 with 1 Axes>"
      ]
     },
     "metadata": {},
     "output_type": "display_data"
    }
   ],
   "source": [
    "sns.histplot(ames['misc_val']);"
   ]
  },
  {
   "cell_type": "code",
   "execution_count": 148,
   "id": "7693650e-0535-4e2f-99e2-4b172a382b38",
   "metadata": {},
   "outputs": [
    {
     "data": {
      "text/html": [
       "<div>\n",
       "<style scoped>\n",
       "    .dataframe tbody tr th:only-of-type {\n",
       "        vertical-align: middle;\n",
       "    }\n",
       "\n",
       "    .dataframe tbody tr th {\n",
       "        vertical-align: top;\n",
       "    }\n",
       "\n",
       "    .dataframe thead th {\n",
       "        text-align: right;\n",
       "    }\n",
       "</style>\n",
       "<table border=\"1\" class=\"dataframe\">\n",
       "  <thead>\n",
       "    <tr style=\"text-align: right;\">\n",
       "      <th></th>\n",
       "      <th>count</th>\n",
       "      <th>mean</th>\n",
       "    </tr>\n",
       "    <tr>\n",
       "      <th>sale_type</th>\n",
       "      <th></th>\n",
       "      <th></th>\n",
       "    </tr>\n",
       "  </thead>\n",
       "  <tbody>\n",
       "    <tr>\n",
       "      <th>ConLw</th>\n",
       "      <td>5</td>\n",
       "      <td>124600.000000</td>\n",
       "    </tr>\n",
       "    <tr>\n",
       "      <th>Oth</th>\n",
       "      <td>4</td>\n",
       "      <td>127497.750000</td>\n",
       "    </tr>\n",
       "    <tr>\n",
       "      <th>ConLD</th>\n",
       "      <td>17</td>\n",
       "      <td>129091.352941</td>\n",
       "    </tr>\n",
       "    <tr>\n",
       "      <th>COD</th>\n",
       "      <td>63</td>\n",
       "      <td>133574.523810</td>\n",
       "    </tr>\n",
       "    <tr>\n",
       "      <th>WD</th>\n",
       "      <td>1781</td>\n",
       "      <td>174912.251544</td>\n",
       "    </tr>\n",
       "    <tr>\n",
       "      <th>CWD</th>\n",
       "      <td>10</td>\n",
       "      <td>186635.000000</td>\n",
       "    </tr>\n",
       "    <tr>\n",
       "      <th>ConLI</th>\n",
       "      <td>7</td>\n",
       "      <td>207992.857143</td>\n",
       "    </tr>\n",
       "    <tr>\n",
       "      <th>Con</th>\n",
       "      <td>4</td>\n",
       "      <td>241807.500000</td>\n",
       "    </tr>\n",
       "    <tr>\n",
       "      <th>New</th>\n",
       "      <td>160</td>\n",
       "      <td>279021.056250</td>\n",
       "    </tr>\n",
       "  </tbody>\n",
       "</table>\n",
       "</div>"
      ],
      "text/plain": [
       "           count           mean\n",
       "sale_type                      \n",
       "ConLw          5  124600.000000\n",
       "Oth            4  127497.750000\n",
       "ConLD         17  129091.352941\n",
       "COD           63  133574.523810\n",
       "WD          1781  174912.251544\n",
       "CWD           10  186635.000000\n",
       "ConLI          7  207992.857143\n",
       "Con            4  241807.500000\n",
       "New          160  279021.056250"
      ]
     },
     "execution_count": 148,
     "metadata": {},
     "output_type": "execute_result"
    }
   ],
   "source": [
    "ames.groupby('sale_type')['SalePrice'].agg(['count', 'mean']).sort_values('mean')"
   ]
  }
 ],
 "metadata": {
  "kernelspec": {
   "display_name": "Python 3 (ipykernel)",
   "language": "python",
   "name": "python3"
  },
  "language_info": {
   "codemirror_mode": {
    "name": "ipython",
    "version": 3
   },
   "file_extension": ".py",
   "mimetype": "text/x-python",
   "name": "python",
   "nbconvert_exporter": "python",
   "pygments_lexer": "ipython3",
   "version": "3.10.9"
  }
 },
 "nbformat": 4,
 "nbformat_minor": 5
}
